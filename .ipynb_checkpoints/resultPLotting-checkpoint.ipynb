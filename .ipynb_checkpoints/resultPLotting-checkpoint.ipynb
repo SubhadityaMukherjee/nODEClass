{
 "cells": [
  {
   "cell_type": "code",
   "execution_count": 1,
   "id": "gentle-bargain",
   "metadata": {
    "execution": {
     "iopub.execute_input": "2021-06-05T19:43:22.653887Z",
     "iopub.status.busy": "2021-06-05T19:43:22.653331Z",
     "iopub.status.idle": "2021-06-05T19:43:22.667421Z",
     "shell.execute_reply": "2021-06-05T19:43:22.666180Z",
     "shell.execute_reply.started": "2021-06-05T19:43:22.653740Z"
    }
   },
   "outputs": [],
   "source": [
    "import numpy as np\n",
    "import seaborn as sns"
   ]
  },
  {
   "cell_type": "code",
   "execution_count": 4,
   "id": "hairy-basement",
   "metadata": {
    "execution": {
     "iopub.execute_input": "2021-06-05T19:47:24.474819Z",
     "iopub.status.busy": "2021-06-05T19:47:24.474375Z",
     "iopub.status.idle": "2021-06-05T19:47:24.486608Z",
     "shell.execute_reply": "2021-06-05T19:47:24.485131Z",
     "shell.execute_reply.started": "2021-06-05T19:47:24.474767Z"
    }
   },
   "outputs": [
    {
     "data": {
      "text/plain": [
       "[['fruits', 131, 95, 98.4, 5],\n",
       " ['flowers', 5, 87, 97.6, 3],\n",
       " ['boat', 9, 94, 97.29, 3],\n",
       " ['garbage', 12, 64, 99.2, 2],\n",
       " ['asl', 29, 57, 68.8, 2]]"
      ]
     },
     "execution_count": 4,
     "metadata": {},
     "output_type": "execute_result"
    }
   ],
   "source": [
    "da = [\n",
    "    [\"fruits\", 131, 95, 98.4, 5],\n",
    "    [\"flowers\", 5, 87, 97.6, 3],\n",
    "    [\"boat\", 9, 94, 97.29, 3],\n",
    "    [\"garbage\", 12, 64, 99.2, 2],\n",
    "    [\"asl\", 29, 57, 68.8, 2],\n",
    "]\n",
    "da"
   ]
  },
  {
   "cell_type": "code",
   "execution_count": 25,
   "id": "documentary-nowhere",
   "metadata": {
    "execution": {
     "iopub.execute_input": "2021-06-05T19:52:16.647073Z",
     "iopub.status.busy": "2021-06-05T19:52:16.646617Z",
     "iopub.status.idle": "2021-06-05T19:52:16.651393Z",
     "shell.execute_reply": "2021-06-05T19:52:16.650929Z",
     "shell.execute_reply.started": "2021-06-05T19:52:16.647019Z"
    }
   },
   "outputs": [],
   "source": [
    "def merge_ind(x, ind):\n",
    "    return [y[ind] for y in x]"
   ]
  },
  {
   "cell_type": "code",
   "execution_count": 19,
   "id": "virtual-absorption",
   "metadata": {
    "execution": {
     "iopub.execute_input": "2021-06-05T19:50:07.784095Z",
     "iopub.status.busy": "2021-06-05T19:50:07.783646Z",
     "iopub.status.idle": "2021-06-05T19:50:07.793403Z",
     "shell.execute_reply": "2021-06-05T19:50:07.791513Z",
     "shell.execute_reply.started": "2021-06-05T19:50:07.784041Z"
    }
   },
   "outputs": [
    {
     "data": {
      "text/plain": [
       "[['fruits', 131], ['flowers', 5], ['boat', 9], ['garbage', 12], ['asl', 29]]"
      ]
     },
     "execution_count": 19,
     "metadata": {},
     "output_type": "execute_result"
    }
   ],
   "source": [
    "[y[:2] for y in da]"
   ]
  },
  {
   "cell_type": "code",
   "execution_count": 26,
   "id": "hazardous-failing",
   "metadata": {
    "execution": {
     "iopub.execute_input": "2021-06-05T19:52:26.148640Z",
     "iopub.status.busy": "2021-06-05T19:52:26.148139Z",
     "iopub.status.idle": "2021-06-05T19:52:26.157799Z",
     "shell.execute_reply": "2021-06-05T19:52:26.156355Z",
     "shell.execute_reply.started": "2021-06-05T19:52:26.148579Z"
    }
   },
   "outputs": [
    {
     "data": {
      "text/plain": [
       "[131, 5, 9, 12, 29]"
      ]
     },
     "execution_count": 26,
     "metadata": {},
     "output_type": "execute_result"
    }
   ],
   "source": [
    "merge_ind([y[:2] for y in da], 1)"
   ]
  },
  {
   "cell_type": "code",
   "execution_count": 40,
   "id": "first-continuity",
   "metadata": {
    "execution": {
     "iopub.execute_input": "2021-06-05T19:54:32.651686Z",
     "iopub.status.busy": "2021-06-05T19:54:32.651541Z",
     "iopub.status.idle": "2021-06-05T19:54:32.654826Z",
     "shell.execute_reply": "2021-06-05T19:54:32.654392Z",
     "shell.execute_reply.started": "2021-06-05T19:54:32.651670Z"
    }
   },
   "outputs": [
    {
     "data": {
      "application/javascript": [
       "\n",
       "        if (window._pyforest_update_imports_cell) { window._pyforest_update_imports_cell('import matplotlib.pyplot as plt'); }\n",
       "    "
      ],
      "text/plain": [
       "<IPython.core.display.Javascript object>"
      ]
     },
     "metadata": {},
     "output_type": "display_data"
    }
   ],
   "source": [
    "plt.rcParams[\"figure.figsize\"] = (10,10)"
   ]
  },
  {
   "cell_type": "code",
   "execution_count": 65,
   "id": "wired-confusion",
   "metadata": {
    "execution": {
     "iopub.execute_input": "2021-06-05T19:59:17.647046Z",
     "iopub.status.busy": "2021-06-05T19:59:17.646798Z",
     "iopub.status.idle": "2021-06-05T19:59:17.651710Z",
     "shell.execute_reply": "2021-06-05T19:59:17.651106Z",
     "shell.execute_reply.started": "2021-06-05T19:59:17.647017Z"
    }
   },
   "outputs": [
    {
     "data": {
      "text/plain": [
       "[[95, 98.4], [87, 97.6], [94, 97.29], [64, 99.2], [57, 68.8]]"
      ]
     },
     "execution_count": 65,
     "metadata": {},
     "output_type": "execute_result"
    }
   ],
   "source": [
    "[y[2:4] for y in da]"
   ]
  },
  {
   "cell_type": "code",
   "execution_count": 71,
   "id": "changed-developer",
   "metadata": {
    "execution": {
     "iopub.execute_input": "2021-06-05T20:00:12.805578Z",
     "iopub.status.busy": "2021-06-05T20:00:12.805424Z",
     "iopub.status.idle": "2021-06-05T20:00:12.808447Z",
     "shell.execute_reply": "2021-06-05T20:00:12.808094Z",
     "shell.execute_reply.started": "2021-06-05T20:00:12.805561Z"
    }
   },
   "outputs": [
    {
     "data": {
      "text/plain": [
       "[95, 87, 94, 64, 57]"
      ]
     },
     "execution_count": 71,
     "metadata": {},
     "output_type": "execute_result"
    }
   ],
   "source": [
    "merge_ind([y[2:4] for y in da], 0)"
   ]
  },
  {
   "cell_type": "code",
   "execution_count": 80,
   "id": "revised-allergy",
   "metadata": {
    "execution": {
     "iopub.execute_input": "2021-06-05T20:01:56.880255Z",
     "iopub.status.busy": "2021-06-05T20:01:56.880030Z",
     "iopub.status.idle": "2021-06-05T20:01:56.988306Z",
     "shell.execute_reply": "2021-06-05T20:01:56.987845Z",
     "shell.execute_reply.started": "2021-06-05T20:01:56.880216Z"
    }
   },
   "outputs": [
    {
     "data": {
      "application/javascript": [
       "\n",
       "        if (window._pyforest_update_imports_cell) { window._pyforest_update_imports_cell('import matplotlib.pyplot as plt'); }\n",
       "    "
      ],
      "text/plain": [
       "<IPython.core.display.Javascript object>"
      ]
     },
     "metadata": {},
     "output_type": "display_data"
    },
    {
     "data": {
      "application/javascript": [
       "\n",
       "        if (window._pyforest_update_imports_cell) { window._pyforest_update_imports_cell('import matplotlib.pyplot as plt'); }\n",
       "    "
      ],
      "text/plain": [
       "<IPython.core.display.Javascript object>"
      ]
     },
     "metadata": {},
     "output_type": "display_data"
    },
    {
     "data": {
      "application/javascript": [
       "\n",
       "        if (window._pyforest_update_imports_cell) { window._pyforest_update_imports_cell('import matplotlib.pyplot as plt'); }\n",
       "    "
      ],
      "text/plain": [
       "<IPython.core.display.Javascript object>"
      ]
     },
     "metadata": {},
     "output_type": "display_data"
    },
    {
     "data": {
      "application/javascript": [
       "\n",
       "        if (window._pyforest_update_imports_cell) { window._pyforest_update_imports_cell('import matplotlib.pyplot as plt'); }\n",
       "    "
      ],
      "text/plain": [
       "<IPython.core.display.Javascript object>"
      ]
     },
     "metadata": {},
     "output_type": "display_data"
    },
    {
     "data": {
      "text/plain": [
       "<matplotlib.legend.Legend at 0x7efe6b4e6bb0>"
      ]
     },
     "execution_count": 80,
     "metadata": {},
     "output_type": "execute_result"
    },
    {
     "data": {
      "image/png": "[encoded data removed]",
      "text/plain": [
       "<Figure size 720x720 with 1 Axes>"
      ]
     },
     "metadata": {
      "needs_background": "light"
     },
     "output_type": "display_data"
    }
   ],
   "source": [
    "plt.bar(merge_ind([y[:2] for y in da], 0), merge_ind([y[2:4] for y in da], 1), color = \"red\")\n",
    "plt.bar(merge_ind([y[:2] for y in da], 0), merge_ind([y[2:4] for y in da], 0), color = \"blue\")\n",
    "plt.title(\"Our accuracy\")\n",
    "plt.legend([\"ours\", \"original\"])"
   ]
  },
  {
   "cell_type": "code",
   "execution_count": 87,
   "id": "missing-treaty",
   "metadata": {
    "execution": {
     "iopub.execute_input": "2021-06-05T20:07:30.387564Z",
     "iopub.status.busy": "2021-06-05T20:07:30.387200Z",
     "iopub.status.idle": "2021-06-05T20:07:30.393377Z",
     "shell.execute_reply": "2021-06-05T20:07:30.392507Z",
     "shell.execute_reply.started": "2021-06-05T20:07:30.387521Z"
    }
   },
   "outputs": [
    {
     "data": {
      "text/plain": [
       "[5, 3, 3, 2, 2]"
      ]
     },
     "execution_count": 87,
     "metadata": {},
     "output_type": "execute_result"
    }
   ],
   "source": [
    "merge_ind([y for y in da], -1)"
   ]
  },
  {
   "cell_type": "code",
   "execution_count": 98,
   "id": "faced-parliament",
   "metadata": {
    "execution": {
     "iopub.execute_input": "2021-06-05T20:11:09.051692Z",
     "iopub.status.busy": "2021-06-05T20:11:09.051183Z",
     "iopub.status.idle": "2021-06-05T20:11:09.061996Z",
     "shell.execute_reply": "2021-06-05T20:11:09.060226Z",
     "shell.execute_reply.started": "2021-06-05T20:11:09.051632Z"
    }
   },
   "outputs": [
    {
     "data": {
      "text/plain": [
       "[98.4, 97.6, 97.29, 99.2, 68.8]"
      ]
     },
     "execution_count": 98,
     "metadata": {},
     "output_type": "execute_result"
    }
   ],
   "source": [
    "merge_ind([y[2:4] for y in da], 1)"
   ]
  },
  {
   "cell_type": "code",
   "execution_count": 106,
   "id": "magnetic-proof",
   "metadata": {
    "execution": {
     "iopub.execute_input": "2021-06-05T20:13:53.409268Z",
     "iopub.status.busy": "2021-06-05T20:13:53.409124Z",
     "iopub.status.idle": "2021-06-05T20:13:53.519217Z",
     "shell.execute_reply": "2021-06-05T20:13:53.518783Z",
     "shell.execute_reply.started": "2021-06-05T20:13:53.409251Z"
    }
   },
   "outputs": [
    {
     "data": {
      "application/javascript": [
       "\n",
       "        if (window._pyforest_update_imports_cell) { window._pyforest_update_imports_cell('import matplotlib.pyplot as plt'); }\n",
       "    "
      ],
      "text/plain": [
       "<IPython.core.display.Javascript object>"
      ]
     },
     "metadata": {},
     "output_type": "display_data"
    },
    {
     "data": {
      "application/javascript": [
       "\n",
       "        if (window._pyforest_update_imports_cell) { window._pyforest_update_imports_cell('import matplotlib.pyplot as plt'); }\n",
       "    "
      ],
      "text/plain": [
       "<IPython.core.display.Javascript object>"
      ]
     },
     "metadata": {},
     "output_type": "display_data"
    },
    {
     "data": {
      "application/javascript": [
       "\n",
       "        if (window._pyforest_update_imports_cell) { window._pyforest_update_imports_cell('import matplotlib.pyplot as plt'); }\n",
       "    "
      ],
      "text/plain": [
       "<IPython.core.display.Javascript object>"
      ]
     },
     "metadata": {},
     "output_type": "display_data"
    },
    {
     "data": {
      "application/javascript": [
       "\n",
       "        if (window._pyforest_update_imports_cell) { window._pyforest_update_imports_cell('import matplotlib.pyplot as plt'); }\n",
       "    "
      ],
      "text/plain": [
       "<IPython.core.display.Javascript object>"
      ]
     },
     "metadata": {},
     "output_type": "display_data"
    },
    {
     "data": {
      "application/javascript": [
       "\n",
       "        if (window._pyforest_update_imports_cell) { window._pyforest_update_imports_cell('import matplotlib.pyplot as plt'); }\n",
       "    "
      ],
      "text/plain": [
       "<IPython.core.display.Javascript object>"
      ]
     },
     "metadata": {},
     "output_type": "display_data"
    },
    {
     "data": {
      "application/javascript": [
       "\n",
       "        if (window._pyforest_update_imports_cell) { window._pyforest_update_imports_cell('import matplotlib.pyplot as plt'); }\n",
       "    "
      ],
      "text/plain": [
       "<IPython.core.display.Javascript object>"
      ]
     },
     "metadata": {},
     "output_type": "display_data"
    },
    {
     "data": {
      "application/javascript": [
       "\n",
       "        if (window._pyforest_update_imports_cell) { window._pyforest_update_imports_cell('import matplotlib.pyplot as plt'); }\n",
       "    "
      ],
      "text/plain": [
       "<IPython.core.display.Javascript object>"
      ]
     },
     "metadata": {},
     "output_type": "display_data"
    },
    {
     "data": {
      "application/javascript": [
       "\n",
       "        if (window._pyforest_update_imports_cell) { window._pyforest_update_imports_cell('import matplotlib.pyplot as plt'); }\n",
       "    "
      ],
      "text/plain": [
       "<IPython.core.display.Javascript object>"
      ]
     },
     "metadata": {},
     "output_type": "display_data"
    },
    {
     "data": {
      "image/png": "[encoded data removed]",
      "text/plain": [
       "<Figure size 720x720 with 1 Axes>"
      ]
     },
     "metadata": {
      "needs_background": "light"
     },
     "output_type": "display_data"
    }
   ],
   "source": [
    "plt.bar(merge_ind([y[:2] for y in da], 0),merge_ind([y for y in da], -1))\n",
    "s = merge_ind([y for y in da], -1)\n",
    "q = [str(x)+\"% acc\" for x in merge_ind([y[2:4] for y in da], 1)]\n",
    "n = merge_ind([y for y in da], 0)\n",
    "for i in range(len(s)):\n",
    "    plt.annotate(str(q[i]), xy=(n[i],s[i]), ha='center', va='bottom')\n",
    "plt.title(\"Number of epochs and accuracy\")\n",
    "plt.show()\n"
   ]
  },
  {
   "cell_type": "code",
   "execution_count": null,
   "id": "republican-prescription",
   "metadata": {},
   "outputs": [],
   "source": []
  },
  {
   "cell_type": "code",
   "execution_count": null,
   "id": "saving-genre",
   "metadata": {},
   "outputs": [],
   "source": []
  },
  {
   "cell_type": "code",
   "execution_count": null,
   "id": "antique-oregon",
   "metadata": {},
   "outputs": [],
   "source": [
    "plt.bar()\n",
    "plt.title(\"\")"
   ]
  },
  {
   "cell_type": "code",
   "execution_count": 41,
   "id": "focused-vessel",
   "metadata": {
    "execution": {
     "iopub.execute_input": "2021-06-05T19:54:32.907496Z",
     "iopub.status.busy": "2021-06-05T19:54:32.907047Z",
     "iopub.status.idle": "2021-06-05T19:54:33.012209Z",
     "shell.execute_reply": "2021-06-05T19:54:33.011714Z",
     "shell.execute_reply.started": "2021-06-05T19:54:32.907443Z"
    }
   },
   "outputs": [
    {
     "data": {
      "application/javascript": [
       "\n",
       "        if (window._pyforest_update_imports_cell) { window._pyforest_update_imports_cell('import matplotlib.pyplot as plt'); }\n",
       "    "
      ],
      "text/plain": [
       "<IPython.core.display.Javascript object>"
      ]
     },
     "metadata": {},
     "output_type": "display_data"
    },
    {
     "data": {
      "application/javascript": [
       "\n",
       "        if (window._pyforest_update_imports_cell) { window._pyforest_update_imports_cell('import matplotlib.pyplot as plt'); }\n",
       "    "
      ],
      "text/plain": [
       "<IPython.core.display.Javascript object>"
      ]
     },
     "metadata": {},
     "output_type": "display_data"
    },
    {
     "data": {
      "text/plain": [
       "Text(0.5, 1.0, 'Number of classes')"
      ]
     },
     "execution_count": 41,
     "metadata": {},
     "output_type": "execute_result"
    },
    {
     "data": {
      "image/png": "[encoded data removed]",
      "text/plain": [
       "<Figure size 720x720 with 1 Axes>"
      ]
     },
     "metadata": {
      "needs_background": "light"
     },
     "output_type": "display_data"
    }
   ],
   "source": [
    "plt.bar(merge_ind([y[:2] for y in da], 0), merge_ind([y[:2] for y in da], 1))\n",
    "plt.title(\"Number of classes\")"
   ]
  },
  {
   "cell_type": "code",
   "execution_count": null,
   "id": "favorite-hebrew",
   "metadata": {},
   "outputs": [],
   "source": []
  },
  {
   "cell_type": "code",
   "execution_count": null,
   "id": "greatest-lodge",
   "metadata": {},
   "outputs": [],
   "source": []
  },
  {
   "cell_type": "code",
   "execution_count": null,
   "id": "western-lying",
   "metadata": {},
   "outputs": [],
   "source": []
  },
  {
   "cell_type": "code",
   "execution_count": null,
   "id": "cubic-treaty",
   "metadata": {},
   "outputs": [],
   "source": []
  }
 ],
 "metadata": {
  "kernelspec": {
   "display_name": "Python 3",
   "language": "python",
   "name": "python3"
  },
  "language_info": {
   "codemirror_mode": {
    "name": "ipython",
    "version": 3
   },
   "file_extension": ".py",
   "mimetype": "text/x-python",
   "name": "python",
   "nbconvert_exporter": "python",
   "pygments_lexer": "ipython3",
   "version": "3.9.1"
  }
 },
 "nbformat": 4,
 "nbformat_minor": 5
}
