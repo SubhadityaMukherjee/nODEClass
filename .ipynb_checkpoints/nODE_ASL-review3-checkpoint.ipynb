{
 "cells": [
  {
   "cell_type": "code",
   "execution_count": 1,
   "metadata": {
    "ExecuteTime": {
     "end_time": "2021-01-20T13:09:42.093682Z",
     "start_time": "2021-01-20T13:09:42.090482Z"
    },
    "execution": {
     "iopub.execute_input": "2021-05-27T10:42:47.017258Z",
     "iopub.status.busy": "2021-05-27T10:42:47.016752Z",
     "iopub.status.idle": "2021-05-27T10:42:48.453456Z",
     "shell.execute_reply": "2021-05-27T10:42:48.452991Z",
     "shell.execute_reply.started": "2021-05-27T10:42:47.017146Z"
    },
    "run_control": {
     "marked": false
    }
   },
   "outputs": [],
   "source": [
    "import matplotlib.pyplot as plt\n",
    "import pandas as pd\n",
    "import os\n",
    "import glob\n",
    "import cv2\n",
    "import json\n",
    "from collections import Counter\n",
    "import pickle\n",
    "import numpy as np\n",
    "\n",
    "from efficientnet_pytorch import EfficientNet\n",
    "\n",
    "import torch.optim as optim\n",
    "import torch\n",
    "from torch import nn\n",
    "from torch.utils.data import DataLoader, random_split\n",
    "from torch.nn import functional as F\n",
    "from torch.utils.data import Dataset, TensorDataset, DataLoader\n",
    "from torch.utils.tensorboard import SummaryWriter\n",
    "\n",
    "import torchvision\n",
    "from torchvision.datasets import ImageFolder\n",
    "from torchvision import datasets, transforms\n",
    "from torchdiffeq import odeint\n",
    "\n",
    "import pytorch_lightning as pl\n",
    "from pytorch_lightning import Trainer\n",
    "from pytorch_lightning.loggers import CSVLogger, TensorBoardLogger\n",
    "from pytorch_lightning.metrics.functional import accuracy\n",
    "from pytorch_lightning.callbacks.early_stopping import EarlyStopping\n",
    "\n",
    "import albumentations as A\n",
    "from albumentations.core.composition import Compose\n",
    "from albumentations.pytorch import ToTensorV2\n",
    "\n",
    "from sklearn import metrics, model_selection,preprocessing\n",
    "from sklearn.model_selection import StratifiedKFold\n",
    "from sklearn.metrics import confusion_matrix\n",
    "\n",
    "\n",
    "import optuna\n",
    "from optuna.integration import PyTorchLightningPruningCallback\n",
    "os.environ[\"TORCH_HOME\"] = \"/media/hdd/Datasets/\""
   ]
  },
  {
   "cell_type": "code",
   "execution_count": 2,
   "metadata": {
    "execution": {
     "iopub.execute_input": "2021-05-27T10:42:48.454166Z",
     "iopub.status.busy": "2021-05-27T10:42:48.454059Z",
     "iopub.status.idle": "2021-05-27T10:42:48.459054Z",
     "shell.execute_reply": "2021-05-27T10:42:48.458595Z",
     "shell.execute_reply.started": "2021-05-27T10:42:48.454152Z"
    }
   },
   "outputs": [],
   "source": [
    "import torchsnooper as sn"
   ]
  },
  {
   "cell_type": "markdown",
   "metadata": {},
   "source": [
    "# Look at data \n",
    "- Create a csv for easy loading"
   ]
  },
  {
   "cell_type": "code",
   "execution_count": 12,
   "metadata": {
    "execution": {
     "iopub.execute_input": "2021-05-27T10:43:20.113833Z",
     "iopub.status.busy": "2021-05-27T10:43:20.113671Z",
     "iopub.status.idle": "2021-05-27T10:43:20.116349Z",
     "shell.execute_reply": "2021-05-27T10:43:20.115838Z",
     "shell.execute_reply.started": "2021-05-27T10:43:20.113816Z"
    }
   },
   "outputs": [],
   "source": [
    "main_path = \"/media/hdd/Datasets/asl/asl_alphabet_train/\""
   ]
  },
  {
   "cell_type": "code",
   "execution_count": 13,
   "metadata": {
    "execution": {
     "iopub.execute_input": "2021-05-27T10:43:20.383961Z",
     "iopub.status.busy": "2021-05-27T10:43:20.383787Z",
     "iopub.status.idle": "2021-05-27T10:43:21.494621Z",
     "shell.execute_reply": "2021-05-27T10:43:21.494158Z",
     "shell.execute_reply.started": "2021-05-27T10:43:20.383942Z"
    }
   },
   "outputs": [
    {
     "data": {
      "text/plain": [
       "'/media/hdd/Datasets/asl/asl_alphabet_train/V/V1968.jpg'"
      ]
     },
     "execution_count": 13,
     "metadata": {},
     "output_type": "execute_result"
    }
   ],
   "source": [
    "all_ims = glob.glob(main_path+\"/*/*.jpg\");all_ims[0]"
   ]
  },
  {
   "cell_type": "code",
   "execution_count": 14,
   "metadata": {
    "execution": {
     "iopub.execute_input": "2021-05-27T10:43:21.495621Z",
     "iopub.status.busy": "2021-05-27T10:43:21.495503Z",
     "iopub.status.idle": "2021-05-27T10:43:21.498042Z",
     "shell.execute_reply": "2021-05-27T10:43:21.497732Z",
     "shell.execute_reply.started": "2021-05-27T10:43:21.495606Z"
    }
   },
   "outputs": [
    {
     "data": {
      "text/plain": [
       "87000"
      ]
     },
     "execution_count": 14,
     "metadata": {},
     "output_type": "execute_result"
    }
   ],
   "source": [
    "len(all_ims)"
   ]
  },
  {
   "cell_type": "code",
   "execution_count": 18,
   "metadata": {
    "execution": {
     "iopub.execute_input": "2021-05-27T10:43:29.575473Z",
     "iopub.status.busy": "2021-05-27T10:43:29.575325Z",
     "iopub.status.idle": "2021-05-27T10:43:29.577945Z",
     "shell.execute_reply": "2021-05-27T10:43:29.577555Z",
     "shell.execute_reply.started": "2021-05-27T10:43:29.575458Z"
    }
   },
   "outputs": [],
   "source": [
    "def create_label(x):\n",
    "    return x.split(\"/\")[-2]"
   ]
  },
  {
   "cell_type": "code",
   "execution_count": 19,
   "metadata": {
    "execution": {
     "iopub.execute_input": "2021-05-27T10:43:29.807010Z",
     "iopub.status.busy": "2021-05-27T10:43:29.806448Z",
     "iopub.status.idle": "2021-05-27T10:43:29.874642Z",
     "shell.execute_reply": "2021-05-27T10:43:29.874183Z",
     "shell.execute_reply.started": "2021-05-27T10:43:29.806946Z"
    }
   },
   "outputs": [],
   "source": [
    "df = pd.DataFrame.from_dict({x:create_label(x) for x in all_ims} ,orient='index').reset_index()\n",
    "df.columns = [\"image_id\",\"label\"]"
   ]
  },
  {
   "cell_type": "code",
   "execution_count": 20,
   "metadata": {
    "execution": {
     "iopub.execute_input": "2021-05-27T10:43:30.145558Z",
     "iopub.status.busy": "2021-05-27T10:43:30.145160Z",
     "iopub.status.idle": "2021-05-27T10:43:30.155802Z",
     "shell.execute_reply": "2021-05-27T10:43:30.154755Z",
     "shell.execute_reply.started": "2021-05-27T10:43:30.145511Z"
    },
    "scrolled": true
   },
   "outputs": [
    {
     "data": {
      "text/html": [
       "<div>\n",
       "<style scoped>\n",
       "    .dataframe tbody tr th:only-of-type {\n",
       "        vertical-align: middle;\n",
       "    }\n",
       "\n",
       "    .dataframe tbody tr th {\n",
       "        vertical-align: top;\n",
       "    }\n",
       "\n",
       "    .dataframe thead th {\n",
       "        text-align: right;\n",
       "    }\n",
       "</style>\n",
       "<table border=\"1\" class=\"dataframe\">\n",
       "  <thead>\n",
       "    <tr style=\"text-align: right;\">\n",
       "      <th></th>\n",
       "      <th>image_id</th>\n",
       "      <th>label</th>\n",
       "    </tr>\n",
       "  </thead>\n",
       "  <tbody>\n",
       "    <tr>\n",
       "      <th>0</th>\n",
       "      <td>/media/hdd/Datasets/asl/asl_alphabet_train/V/V...</td>\n",
       "      <td>V</td>\n",
       "    </tr>\n",
       "    <tr>\n",
       "      <th>1</th>\n",
       "      <td>/media/hdd/Datasets/asl/asl_alphabet_train/V/V...</td>\n",
       "      <td>V</td>\n",
       "    </tr>\n",
       "    <tr>\n",
       "      <th>2</th>\n",
       "      <td>/media/hdd/Datasets/asl/asl_alphabet_train/V/V...</td>\n",
       "      <td>V</td>\n",
       "    </tr>\n",
       "    <tr>\n",
       "      <th>3</th>\n",
       "      <td>/media/hdd/Datasets/asl/asl_alphabet_train/V/V...</td>\n",
       "      <td>V</td>\n",
       "    </tr>\n",
       "    <tr>\n",
       "      <th>4</th>\n",
       "      <td>/media/hdd/Datasets/asl/asl_alphabet_train/V/V...</td>\n",
       "      <td>V</td>\n",
       "    </tr>\n",
       "  </tbody>\n",
       "</table>\n",
       "</div>"
      ],
      "text/plain": [
       "                                            image_id label\n",
       "0  /media/hdd/Datasets/asl/asl_alphabet_train/V/V...     V\n",
       "1  /media/hdd/Datasets/asl/asl_alphabet_train/V/V...     V\n",
       "2  /media/hdd/Datasets/asl/asl_alphabet_train/V/V...     V\n",
       "3  /media/hdd/Datasets/asl/asl_alphabet_train/V/V...     V\n",
       "4  /media/hdd/Datasets/asl/asl_alphabet_train/V/V...     V"
      ]
     },
     "execution_count": 20,
     "metadata": {},
     "output_type": "execute_result"
    }
   ],
   "source": [
    "df.head()"
   ]
  },
  {
   "cell_type": "code",
   "execution_count": 21,
   "metadata": {
    "execution": {
     "iopub.execute_input": "2021-05-27T10:43:31.972303Z",
     "iopub.status.busy": "2021-05-27T10:43:31.971493Z",
     "iopub.status.idle": "2021-05-27T10:43:31.980538Z",
     "shell.execute_reply": "2021-05-27T10:43:31.978250Z",
     "shell.execute_reply.started": "2021-05-27T10:43:31.972204Z"
    }
   },
   "outputs": [],
   "source": [
    "df_b = df"
   ]
  },
  {
   "cell_type": "code",
   "execution_count": 22,
   "metadata": {
    "execution": {
     "iopub.execute_input": "2021-05-27T10:43:32.257433Z",
     "iopub.status.busy": "2021-05-27T10:43:32.256853Z",
     "iopub.status.idle": "2021-05-27T10:43:32.279826Z",
     "shell.execute_reply": "2021-05-27T10:43:32.278959Z",
     "shell.execute_reply.started": "2021-05-27T10:43:32.257368Z"
    }
   },
   "outputs": [
    {
     "data": {
      "text/plain": [
       "array(['V', 'S', 'M', 'K', 'Y', 'W', 'nothing', 'E', 'D', 'U', 'N', 'A',\n",
       "       'R', 'B', 'F', 'T', 'G', 'C', 'Z', 'X', 'O', 'L', 'P', 'H',\n",
       "       'space', 'J', 'Q', 'I', 'del'], dtype=object)"
      ]
     },
     "execution_count": 22,
     "metadata": {},
     "output_type": "execute_result"
    }
   ],
   "source": [
    "df.label.unique()"
   ]
  },
  {
   "cell_type": "code",
   "execution_count": 23,
   "metadata": {
    "execution": {
     "iopub.execute_input": "2021-05-27T10:43:32.857466Z",
     "iopub.status.busy": "2021-05-27T10:43:32.856924Z",
     "iopub.status.idle": "2021-05-27T10:43:32.881183Z",
     "shell.execute_reply": "2021-05-27T10:43:32.880279Z",
     "shell.execute_reply.started": "2021-05-27T10:43:32.857404Z"
    }
   },
   "outputs": [
    {
     "data": {
      "text/plain": [
       "29"
      ]
     },
     "execution_count": 23,
     "metadata": {},
     "output_type": "execute_result"
    }
   ],
   "source": [
    "df.label.nunique()"
   ]
  },
  {
   "cell_type": "code",
   "execution_count": 24,
   "metadata": {
    "execution": {
     "iopub.execute_input": "2021-05-27T10:43:33.746818Z",
     "iopub.status.busy": "2021-05-27T10:43:33.746679Z",
     "iopub.status.idle": "2021-05-27T10:43:33.760447Z",
     "shell.execute_reply": "2021-05-27T10:43:33.759970Z",
     "shell.execute_reply.started": "2021-05-27T10:43:33.746803Z"
    }
   },
   "outputs": [],
   "source": [
    "temp = preprocessing.LabelEncoder()\n",
    "df['label'] = temp.fit_transform(df.label.values)"
   ]
  },
  {
   "cell_type": "code",
   "execution_count": 25,
   "metadata": {
    "execution": {
     "iopub.execute_input": "2021-05-27T10:43:34.230898Z",
     "iopub.status.busy": "2021-05-27T10:43:34.230356Z",
     "iopub.status.idle": "2021-05-27T10:43:34.238425Z",
     "shell.execute_reply": "2021-05-27T10:43:34.236484Z",
     "shell.execute_reply.started": "2021-05-27T10:43:34.230835Z"
    }
   },
   "outputs": [],
   "source": [
    "label_map=  {i: l for i, l in enumerate(temp.classes_)}"
   ]
  },
  {
   "cell_type": "code",
   "execution_count": 26,
   "metadata": {
    "execution": {
     "iopub.execute_input": "2021-05-27T10:43:34.444038Z",
     "iopub.status.busy": "2021-05-27T10:43:34.443880Z",
     "iopub.status.idle": "2021-05-27T10:43:34.448709Z",
     "shell.execute_reply": "2021-05-27T10:43:34.448316Z",
     "shell.execute_reply.started": "2021-05-27T10:43:34.444022Z"
    }
   },
   "outputs": [
    {
     "data": {
      "text/plain": [
       "29"
      ]
     },
     "execution_count": 26,
     "metadata": {},
     "output_type": "execute_result"
    }
   ],
   "source": [
    "df.label.nunique()"
   ]
  },
  {
   "cell_type": "code",
   "execution_count": 27,
   "metadata": {
    "execution": {
     "iopub.execute_input": "2021-05-27T10:43:34.730200Z",
     "iopub.status.busy": "2021-05-27T10:43:34.729675Z",
     "iopub.status.idle": "2021-05-27T10:43:34.745746Z",
     "shell.execute_reply": "2021-05-27T10:43:34.744302Z",
     "shell.execute_reply.started": "2021-05-27T10:43:34.730141Z"
    },
    "scrolled": true
   },
   "outputs": [
    {
     "data": {
      "text/plain": [
       "0     3000\n",
       "15    3000\n",
       "27    3000\n",
       "26    3000\n",
       "25    3000\n",
       "24    3000\n",
       "23    3000\n",
       "22    3000\n",
       "21    3000\n",
       "20    3000\n",
       "19    3000\n",
       "18    3000\n",
       "17    3000\n",
       "16    3000\n",
       "14    3000\n",
       "1     3000\n",
       "13    3000\n",
       "12    3000\n",
       "11    3000\n",
       "10    3000\n",
       "9     3000\n",
       "8     3000\n",
       "7     3000\n",
       "6     3000\n",
       "5     3000\n",
       "4     3000\n",
       "3     3000\n",
       "2     3000\n",
       "28    3000\n",
       "Name: label, dtype: int64"
      ]
     },
     "execution_count": 27,
     "metadata": {},
     "output_type": "execute_result"
    }
   ],
   "source": [
    "df.label.value_counts()"
   ]
  },
  {
   "cell_type": "code",
   "execution_count": 28,
   "metadata": {
    "execution": {
     "iopub.execute_input": "2021-05-27T10:43:35.454335Z",
     "iopub.status.busy": "2021-05-27T10:43:35.453790Z",
     "iopub.status.idle": "2021-05-27T10:43:36.194332Z",
     "shell.execute_reply": "2021-05-27T10:43:36.193896Z",
     "shell.execute_reply.started": "2021-05-27T10:43:35.454273Z"
    }
   },
   "outputs": [],
   "source": [
    "df[\"kfold\"] = -1\n",
    "df = df.sample(frac=1).reset_index(drop=True)\n",
    "stratify = StratifiedKFold(n_splits=5)\n",
    "for i, (t_idx, v_idx) in enumerate(\n",
    "        stratify.split(X=df.image_id.values, y=df.label.values)):\n",
    "    df.loc[v_idx, \"kfold\"] = i\n",
    "    df.to_csv(\"train_folds_fruits.csv\", index=False)"
   ]
  },
  {
   "cell_type": "code",
   "execution_count": 29,
   "metadata": {
    "execution": {
     "iopub.execute_input": "2021-05-27T10:43:36.195325Z",
     "iopub.status.busy": "2021-05-27T10:43:36.195088Z",
     "iopub.status.idle": "2021-05-27T10:43:36.252328Z",
     "shell.execute_reply": "2021-05-27T10:43:36.251844Z",
     "shell.execute_reply.started": "2021-05-27T10:43:36.195307Z"
    }
   },
   "outputs": [
    {
     "data": {
      "text/html": [
       "<div>\n",
       "<style scoped>\n",
       "    .dataframe tbody tr th:only-of-type {\n",
       "        vertical-align: middle;\n",
       "    }\n",
       "\n",
       "    .dataframe tbody tr th {\n",
       "        vertical-align: top;\n",
       "    }\n",
       "\n",
       "    .dataframe thead th {\n",
       "        text-align: right;\n",
       "    }\n",
       "</style>\n",
       "<table border=\"1\" class=\"dataframe\">\n",
       "  <thead>\n",
       "    <tr style=\"text-align: right;\">\n",
       "      <th></th>\n",
       "      <th>image_id</th>\n",
       "      <th>label</th>\n",
       "      <th>kfold</th>\n",
       "    </tr>\n",
       "  </thead>\n",
       "  <tbody>\n",
       "    <tr>\n",
       "      <th>0</th>\n",
       "      <td>/media/hdd/Datasets/asl/asl_alphabet_train/F/F...</td>\n",
       "      <td>5</td>\n",
       "      <td>0</td>\n",
       "    </tr>\n",
       "  </tbody>\n",
       "</table>\n",
       "</div>"
      ],
      "text/plain": [
       "                                            image_id  label  kfold\n",
       "0  /media/hdd/Datasets/asl/asl_alphabet_train/F/F...      5      0"
      ]
     },
     "execution_count": 29,
     "metadata": {},
     "output_type": "execute_result"
    }
   ],
   "source": [
    "pd.read_csv(\"train_folds_fruits.csv\").head(1)"
   ]
  },
  {
   "cell_type": "markdown",
   "metadata": {},
   "source": [
    "# Architecture"
   ]
  },
  {
   "cell_type": "code",
   "execution_count": 30,
   "metadata": {
    "execution": {
     "iopub.execute_input": "2021-05-27T10:43:37.134256Z",
     "iopub.status.busy": "2021-05-27T10:43:37.133712Z",
     "iopub.status.idle": "2021-05-27T10:43:37.142155Z",
     "shell.execute_reply": "2021-05-27T10:43:37.140222Z",
     "shell.execute_reply.started": "2021-05-27T10:43:37.134194Z"
    }
   },
   "outputs": [],
   "source": [
    "def conv3x3(in_planes, out_planes, stride=1):\n",
    "    return nn.Conv2d(in_planes, out_planes, kernel_size=3, stride=stride, padding=1, bias=False)"
   ]
  },
  {
   "cell_type": "code",
   "execution_count": 31,
   "metadata": {
    "execution": {
     "iopub.execute_input": "2021-05-27T10:43:37.367377Z",
     "iopub.status.busy": "2021-05-27T10:43:37.366779Z",
     "iopub.status.idle": "2021-05-27T10:43:37.375536Z",
     "shell.execute_reply": "2021-05-27T10:43:37.373415Z",
     "shell.execute_reply.started": "2021-05-27T10:43:37.367313Z"
    }
   },
   "outputs": [],
   "source": [
    "def conv1x1(in_planes, out_planes, stride=1):\n",
    "    return nn.Conv2d(in_planes, out_planes, kernel_size=1, stride=stride, bias=False)"
   ]
  },
  {
   "cell_type": "code",
   "execution_count": 32,
   "metadata": {
    "execution": {
     "iopub.execute_input": "2021-05-27T10:43:37.511083Z",
     "iopub.status.busy": "2021-05-27T10:43:37.510519Z",
     "iopub.status.idle": "2021-05-27T10:43:37.520843Z",
     "shell.execute_reply": "2021-05-27T10:43:37.518352Z",
     "shell.execute_reply.started": "2021-05-27T10:43:37.510992Z"
    }
   },
   "outputs": [],
   "source": [
    "def norm(dim):\n",
    "    return nn.GroupNorm(min(32, dim), dim)"
   ]
  },
  {
   "cell_type": "code",
   "execution_count": 33,
   "metadata": {
    "execution": {
     "iopub.execute_input": "2021-05-27T10:43:37.719129Z",
     "iopub.status.busy": "2021-05-27T10:43:37.718637Z",
     "iopub.status.idle": "2021-05-27T10:43:37.729175Z",
     "shell.execute_reply": "2021-05-27T10:43:37.728413Z",
     "shell.execute_reply.started": "2021-05-27T10:43:37.719072Z"
    }
   },
   "outputs": [],
   "source": [
    "class ResBlock(nn.Module):\n",
    "    expansion = 1\n",
    "\n",
    "    def __init__(self, inplanes, planes, stride=1, downsample=None):\n",
    "        super(ResBlock, self).__init__()\n",
    "        self.norm1 = norm(inplanes)\n",
    "        self.relu = nn.ReLU(inplace=True)\n",
    "        self.downsample = downsample\n",
    "        self.conv1 = conv3x3(inplanes, planes, stride)\n",
    "        self.norm2 = norm(planes)\n",
    "        self.conv2 = conv3x3(planes, planes)\n",
    "\n",
    "    def forward(self, x):\n",
    "        shortcut = x\n",
    "\n",
    "        out = self.relu(self.norm1(x))\n",
    "\n",
    "        if self.downsample is not None:\n",
    "            shortcut = self.downsample(out)\n",
    "\n",
    "        out = self.conv1(out)\n",
    "        out = self.norm2(out)\n",
    "        out = self.relu(out)\n",
    "        out = self.conv2(out)\n",
    "\n",
    "        return out + shortcut"
   ]
  },
  {
   "cell_type": "code",
   "execution_count": 34,
   "metadata": {
    "execution": {
     "iopub.execute_input": "2021-05-27T10:43:37.861756Z",
     "iopub.status.busy": "2021-05-27T10:43:37.861263Z",
     "iopub.status.idle": "2021-05-27T10:43:37.872226Z",
     "shell.execute_reply": "2021-05-27T10:43:37.870898Z",
     "shell.execute_reply.started": "2021-05-27T10:43:37.861700Z"
    }
   },
   "outputs": [],
   "source": [
    "class ConcatConv2d(nn.Module):\n",
    "\n",
    "    def __init__(self, dim_in, dim_out, ksize=3, stride=1, padding=0, dilation=1, groups=1, bias=True, transpose=False):\n",
    "        super(ConcatConv2d, self).__init__()\n",
    "        module = nn.ConvTranspose2d if transpose else nn.Conv2d\n",
    "        self._layer = module(\n",
    "            dim_in + 1, dim_out, kernel_size=ksize, stride=stride, padding=padding, dilation=dilation, groups=groups,\n",
    "            bias=bias\n",
    "        )\n",
    "\n",
    "    def forward(self, t, x):\n",
    "        tt = torch.ones_like(x[:, :1, :, :]) * t\n",
    "        ttx = torch.cat([tt, x], 1)\n",
    "        return self._layer(ttx)"
   ]
  },
  {
   "cell_type": "code",
   "execution_count": 35,
   "metadata": {
    "execution": {
     "iopub.execute_input": "2021-05-27T10:43:38.061321Z",
     "iopub.status.busy": "2021-05-27T10:43:38.060828Z",
     "iopub.status.idle": "2021-05-27T10:43:38.074258Z",
     "shell.execute_reply": "2021-05-27T10:43:38.073059Z",
     "shell.execute_reply.started": "2021-05-27T10:43:38.061264Z"
    }
   },
   "outputs": [],
   "source": [
    "class ODEfunc(nn.Module):\n",
    "\n",
    "    def __init__(self, dim):\n",
    "        super(ODEfunc, self).__init__()\n",
    "        self.norm1 = norm(dim)\n",
    "        self.relu = nn.ReLU(inplace=True)\n",
    "        self.conv1 = ConcatConv2d(dim, dim, 3, 1, 1)\n",
    "        self.norm2 = norm(dim)\n",
    "        self.conv2 = ConcatConv2d(dim, dim, 3, 1, 1)\n",
    "        self.norm3 = norm(dim)\n",
    "        self.nfe = 0\n",
    "\n",
    "    def forward(self, t, x):\n",
    "        self.nfe += 1\n",
    "        out = self.norm1(x)\n",
    "        out = self.relu(out)\n",
    "        out = self.conv1(t, out)\n",
    "        out = self.norm2(out)\n",
    "        out = self.relu(out)\n",
    "        out = self.conv2(t, out)\n",
    "        out = self.norm3(out)\n",
    "        return out"
   ]
  },
  {
   "cell_type": "code",
   "execution_count": 36,
   "metadata": {
    "execution": {
     "iopub.execute_input": "2021-05-27T10:43:38.261980Z",
     "iopub.status.busy": "2021-05-27T10:43:38.261457Z",
     "iopub.status.idle": "2021-05-27T10:43:38.275262Z",
     "shell.execute_reply": "2021-05-27T10:43:38.273216Z",
     "shell.execute_reply.started": "2021-05-27T10:43:38.261919Z"
    }
   },
   "outputs": [],
   "source": [
    "class ODEBlock(nn.Module):\n",
    "\n",
    "    def __init__(self, odefunc):\n",
    "        super(ODEBlock, self).__init__()\n",
    "        self.odefunc = odefunc\n",
    "        self.integration_time = torch.tensor([0, 1]).float()\n",
    "\n",
    "    def forward(self, oui):\n",
    "        self.integration_time = self.integration_time.type_as(oui)\n",
    "        out = odeint(self.odefunc, oui, self.integration_time, rtol=1e-3, atol=1e-3)\n",
    "        return torch.cuda.FloatTensor(oui)\n",
    "\n",
    "    @property\n",
    "    def nfe(self):\n",
    "        return self.odefunc.nfe\n",
    "\n",
    "    @nfe.setter\n",
    "    def nfe(self, value):\n",
    "        self.odefunc.nfe = value"
   ]
  },
  {
   "cell_type": "code",
   "execution_count": 37,
   "metadata": {
    "execution": {
     "iopub.execute_input": "2021-05-27T10:43:38.485353Z",
     "iopub.status.busy": "2021-05-27T10:43:38.484867Z",
     "iopub.status.idle": "2021-05-27T10:43:38.493673Z",
     "shell.execute_reply": "2021-05-27T10:43:38.492443Z",
     "shell.execute_reply.started": "2021-05-27T10:43:38.485296Z"
    }
   },
   "outputs": [],
   "source": [
    "class Flatten(nn.Module):\n",
    "\n",
    "    def __init__(self):\n",
    "        super(Flatten, self).__init__()\n",
    "\n",
    "    def forward(self, x):\n",
    "        shape = torch.prod(torch.tensor(x.shape[1:])).item()\n",
    "        return x.view(-1, shape)"
   ]
  },
  {
   "cell_type": "markdown",
   "metadata": {},
   "source": [
    "# Create model"
   ]
  },
  {
   "cell_type": "code",
   "execution_count": 38,
   "metadata": {
    "ExecuteTime": {
     "end_time": "2021-01-20T13:11:34.466990Z",
     "start_time": "2021-01-20T13:11:34.459999Z"
    },
    "execution": {
     "iopub.execute_input": "2021-05-27T10:43:39.872011Z",
     "iopub.status.busy": "2021-05-27T10:43:39.871419Z",
     "iopub.status.idle": "2021-05-27T10:43:39.894778Z",
     "shell.execute_reply": "2021-05-27T10:43:39.894101Z",
     "shell.execute_reply.started": "2021-05-27T10:43:39.871930Z"
    }
   },
   "outputs": [],
   "source": [
    "\n",
    "class LitModel(pl.LightningModule):\n",
    "    def __init__(self, num_classes, learning_rate=1e-4, weight_decay=0.0001):\n",
    "        super().__init__()\n",
    "\n",
    "        # log hyperparameters\n",
    "        self.save_hyperparameters()\n",
    "        self.num_classes = num_classes\n",
    "\n",
    "        self.learning_rate = learning_rate\n",
    "        self.weight_decay = weight_decay\n",
    "\n",
    "        self.enet = EfficientNet.from_pretrained('efficientnet-b5',num_classes=self.num_classes)\n",
    "        self.enet._bn1 = nn.Sequential(\n",
    "                ODEBlock(ODEfunc(2048)),\n",
    "                nn.BatchNorm2d(2048, eps=0.001, momentum=0.010000000000000009, affine=True, track_running_stats=True),\n",
    "        )\n",
    "        in_features = self.enet._fc.in_features\n",
    "        self.enet._fc = nn.Linear(in_features, num_classes)\n",
    "\n",
    "#     @sn.snoop()\n",
    "    def forward(self, x):\n",
    "        out = self.enet(torch.cuda.FloatTensor(x))\n",
    "        return out\n",
    "\n",
    "    def configure_optimizers(self):\n",
    "        optimizer = torch.optim.AdamW(self.parameters(),\n",
    "                                      lr=self.learning_rate,\n",
    "                                      weight_decay=self.weight_decay)\n",
    "\n",
    "        scheduler = torch.optim.lr_scheduler.StepLR(optimizer,\n",
    "                                                    step_size=2,\n",
    "                                                    gamma=0.1)\n",
    "\n",
    "        return ([optimizer], [scheduler])\n",
    "\n",
    "\n",
    "\n",
    "    def training_step(self, train_batch, batch_idx):\n",
    "        x, y = train_batch[\"x\"], train_batch[\"y\"]\n",
    "        x =x.type(torch.cuda.FloatTensor)\n",
    "        preds = self(x)\n",
    "        loss = F.cross_entropy(preds, y)\n",
    "        #         loss.requires_grad = True\n",
    "        acc = accuracy(preds, y)\n",
    "        self.log('train_acc_step', acc)\n",
    "        self.log('train_loss', loss)\n",
    "        return loss\n",
    "\n",
    "    def validation_step(self, val_batch, batch_idx):\n",
    "        x, y = val_batch[\"x\"], val_batch[\"y\"]\n",
    "        x =x.type(torch.cuda.FloatTensor)\n",
    "        preds = self(x)\n",
    "        loss = F.cross_entropy(preds, y)\n",
    "        #         loss.requires_grad = True\n",
    "        acc = accuracy(preds, y)\n",
    "        self.log('val_acc_step', acc)\n",
    "        self.log('val_loss', loss)\n",
    "#         print(preds.detach().cpu(), y.detach().cpu())\n",
    "        y2 = torch.argmax(preds, dim = 1)\n",
    "        conf = confusion_matrix(y2.detach().cpu(), y.detach().cpu())\n",
    "        fig = plt.figure()\n",
    "        plt.imshow(conf)\n",
    "#         plt.show()\n",
    "        self.logger.experiment.add_figure(\"Confusion matrix\", fig, self.current_epoch)"
   ]
  },
  {
   "cell_type": "code",
   "execution_count": 39,
   "metadata": {
    "execution": {
     "iopub.execute_input": "2021-05-27T10:43:40.458200Z",
     "iopub.status.busy": "2021-05-27T10:43:40.457955Z",
     "iopub.status.idle": "2021-05-27T10:43:40.464366Z",
     "shell.execute_reply": "2021-05-27T10:43:40.463684Z",
     "shell.execute_reply.started": "2021-05-27T10:43:40.458173Z"
    }
   },
   "outputs": [],
   "source": [
    "class ImageClassDs(Dataset):\n",
    "    def __init__(self,\n",
    "                 df: pd.DataFrame,\n",
    "                 imfolder: str,\n",
    "                 train: bool = True,\n",
    "                 transforms=None):\n",
    "        self.df = df\n",
    "        self.imfolder = imfolder\n",
    "        self.train = train\n",
    "        self.transforms = transforms\n",
    "\n",
    "    def __getitem__(self, index):\n",
    "        im_path = self.df.iloc[index]['image_id']\n",
    "        x = cv2.imread(im_path, cv2.IMREAD_COLOR)\n",
    "        x = cv2.cvtColor(x, cv2.COLOR_BGR2RGB)\n",
    "\n",
    "        if (self.transforms):\n",
    "            x = self.transforms(image=x)['image']\n",
    "\n",
    "        y = self.df.iloc[index]['label']\n",
    "        return {\n",
    "            \"x\": x,\n",
    "            \"y\": y,\n",
    "        }\n",
    "\n",
    "    def __len__(self):\n",
    "        return len(self.df)"
   ]
  },
  {
   "cell_type": "markdown",
   "metadata": {},
   "source": [
    "# Load data"
   ]
  },
  {
   "cell_type": "code",
   "execution_count": 40,
   "metadata": {
    "ExecuteTime": {
     "end_time": "2021-01-20T13:11:57.734304Z",
     "start_time": "2021-01-20T13:11:57.729146Z"
    },
    "execution": {
     "iopub.execute_input": "2021-05-27T10:43:42.551501Z",
     "iopub.status.busy": "2021-05-27T10:43:42.550953Z",
     "iopub.status.idle": "2021-05-27T10:43:42.568852Z",
     "shell.execute_reply": "2021-05-27T10:43:42.567795Z",
     "shell.execute_reply.started": "2021-05-27T10:43:42.551436Z"
    }
   },
   "outputs": [],
   "source": [
    "class ImDataModule(pl.LightningDataModule):\n",
    "    def __init__(\n",
    "            self,\n",
    "            df,\n",
    "            batch_size,\n",
    "            num_classes,\n",
    "            data_dir: str = \"/media/hdd/Datasets/fruits/fruits-360/Training/\",\n",
    "            img_size=(256, 256)):\n",
    "        super().__init__()\n",
    "        self.df = df\n",
    "        self.data_dir = data_dir\n",
    "        self.batch_size = batch_size\n",
    "        self.train_transform = A.Compose([\n",
    "            A.RandomResizedCrop(img_size, img_size, p=1.0),\n",
    "            ToTensorV2(p=1.0),\n",
    "        ],\n",
    "            p=1.)\n",
    "\n",
    "        self.valid_transform = A.Compose([\n",
    "            A.CenterCrop(img_size, img_size, p=1.),\n",
    "            A.Resize(img_size, img_size),\n",
    "            A.Normalize(mean=[0.485, 0.456, 0.406],\n",
    "                        std=[0.229, 0.224, 0.225],\n",
    "                        max_pixel_value=255.0,\n",
    "                        p=1.0),\n",
    "            ToTensorV2(p=1.0),\n",
    "        ],\n",
    "            p=1.)\n",
    "\n",
    "    def setup(self, stage=None):\n",
    "        dfx = pd.read_csv(\"./train_folds.csv\")\n",
    "        train = dfx.loc[dfx[\"kfold\"] != 1]\n",
    "        val = dfx.loc[dfx[\"kfold\"] == 1]\n",
    "\n",
    "        self.train_dataset = ImageClassDs(train,\n",
    "                                          self.data_dir,\n",
    "                                          train=True,\n",
    "                                          transforms=self.train_transform)\n",
    "\n",
    "        self.valid_dataset = ImageClassDs(val,\n",
    "                                          self.data_dir,\n",
    "                                          train=False,\n",
    "                                          transforms=self.valid_transform)\n",
    "\n",
    "    def train_dataloader(self):\n",
    "        return DataLoader(self.train_dataset,\n",
    "                          batch_size=self.batch_size,\n",
    "                          num_workers=12,\n",
    "                          shuffle=True)\n",
    "\n",
    "    def val_dataloader(self):\n",
    "        return DataLoader(self.valid_dataset,\n",
    "                          batch_size=self.batch_size,\n",
    "                          num_workers=12)"
   ]
  },
  {
   "cell_type": "code",
   "execution_count": 41,
   "metadata": {
    "execution": {
     "iopub.execute_input": "2021-05-27T10:43:45.898319Z",
     "iopub.status.busy": "2021-05-27T10:43:45.897749Z",
     "iopub.status.idle": "2021-05-27T10:43:45.906165Z",
     "shell.execute_reply": "2021-05-27T10:43:45.903927Z",
     "shell.execute_reply.started": "2021-05-27T10:43:45.898257Z"
    }
   },
   "outputs": [],
   "source": [
    "batch_size = 128\n",
    "num_classes = 131\n",
    "img_size = 64"
   ]
  },
  {
   "cell_type": "code",
   "execution_count": 42,
   "metadata": {
    "ExecuteTime": {
     "end_time": "2021-01-20T13:11:58.135972Z",
     "start_time": "2021-01-20T13:11:58.131286Z"
    },
    "execution": {
     "iopub.execute_input": "2021-05-27T10:43:46.515982Z",
     "iopub.status.busy": "2021-05-27T10:43:46.515786Z",
     "iopub.status.idle": "2021-05-27T10:43:46.581895Z",
     "shell.execute_reply": "2021-05-27T10:43:46.581547Z",
     "shell.execute_reply.started": "2021-05-27T10:43:46.515960Z"
    }
   },
   "outputs": [],
   "source": [
    "dm = ImDataModule(df,\n",
    "                  batch_size=batch_size,\n",
    "                  num_classes=num_classes,\n",
    "                  img_size=img_size)\n",
    "class_ids = dm.setup()"
   ]
  },
  {
   "cell_type": "markdown",
   "metadata": {},
   "source": [
    "# Final model"
   ]
  },
  {
   "cell_type": "code",
   "execution_count": 43,
   "metadata": {
    "ExecuteTime": {
     "end_time": "2021-01-20T13:12:04.659921Z",
     "start_time": "2021-01-20T13:12:04.444379Z"
    },
    "execution": {
     "iopub.execute_input": "2021-05-27T10:43:47.459430Z",
     "iopub.status.busy": "2021-05-27T10:43:47.459293Z",
     "iopub.status.idle": "2021-05-27T10:43:48.131006Z",
     "shell.execute_reply": "2021-05-27T10:43:48.130575Z",
     "shell.execute_reply.started": "2021-05-27T10:43:47.459416Z"
    }
   },
   "outputs": [
    {
     "name": "stdout",
     "output_type": "stream",
     "text": [
      "Loaded pretrained weights for efficientnet-b5\n"
     ]
    }
   ],
   "source": [
    "model = LitModel(num_classes);"
   ]
  },
  {
   "cell_type": "code",
   "execution_count": 45,
   "metadata": {
    "execution": {
     "iopub.execute_input": "2021-05-27T10:43:59.355332Z",
     "iopub.status.busy": "2021-05-27T10:43:59.354652Z",
     "iopub.status.idle": "2021-05-27T10:43:59.362641Z",
     "shell.execute_reply": "2021-05-27T10:43:59.360973Z",
     "shell.execute_reply.started": "2021-05-27T10:43:59.355250Z"
    }
   },
   "outputs": [],
   "source": [
    "logger = TensorBoardLogger(\"logs/\", name = \"default\")"
   ]
  },
  {
   "cell_type": "code",
   "execution_count": 46,
   "metadata": {
    "ExecuteTime": {
     "end_time": "2021-01-20T13:12:17.444559Z",
     "start_time": "2021-01-20T13:12:17.434634Z"
    },
    "execution": {
     "iopub.execute_input": "2021-05-27T10:44:01.145205Z",
     "iopub.status.busy": "2021-05-27T10:44:01.144673Z",
     "iopub.status.idle": "2021-05-27T10:44:03.076342Z",
     "shell.execute_reply": "2021-05-27T10:44:03.075840Z",
     "shell.execute_reply.started": "2021-05-27T10:44:01.145142Z"
    }
   },
   "outputs": [
    {
     "name": "stderr",
     "output_type": "stream",
     "text": [
      "GPU available: True, used: True\n",
      "TPU available: None, using: 0 TPU cores\n",
      "LOCAL_RANK: 0 - CUDA_VISIBLE_DEVICES: [0]\n"
     ]
    }
   ],
   "source": [
    "trainer = pl.Trainer(auto_select_gpus=True,\n",
    "                     gpus=1,\n",
    "#                      precision=16,\n",
    "                     profiler=False,\n",
    "                     max_epochs=2,\n",
    "                     callbacks=[pl.callbacks.ProgressBar()],\n",
    "                     logger=logger)"
   ]
  },
  {
   "cell_type": "code",
   "execution_count": 47,
   "metadata": {
    "ExecuteTime": {
     "end_time": "2021-01-20T13:14:35.107768Z",
     "start_time": "2021-01-20T13:12:18.236980Z"
    },
    "collapsed": true,
    "execution": {
     "iopub.execute_input": "2021-05-27T10:44:04.996184Z",
     "iopub.status.busy": "2021-05-27T10:44:04.995953Z",
     "iopub.status.idle": "2021-05-27T10:58:11.323644Z",
     "shell.execute_reply": "2021-05-27T10:58:11.323072Z",
     "shell.execute_reply.started": "2021-05-27T10:44:04.996168Z"
    },
    "jupyter": {
     "outputs_hidden": true
    }
   },
   "outputs": [
    {
     "name": "stderr",
     "output_type": "stream",
     "text": [
      "\n",
      "  | Name | Type         | Params\n",
      "--------------------------------------\n",
      "0 | enet | EfficientNet | 104 M \n",
      "--------------------------------------\n",
      "104 M     Trainable params\n",
      "0         Non-trainable params\n",
      "104 M     Total params\n"
     ]
    },
    {
     "data": {
      "application/vnd.jupyter.widget-view+json": {
       "model_id": "",
       "version_major": 2,
       "version_minor": 0
      },
      "text/plain": [
       "Validation sanity check: 0it [00:00, ?it/s]"
      ]
     },
     "metadata": {},
     "output_type": "display_data"
    },
    {
     "data": {
      "application/vnd.jupyter.widget-view+json": {
       "model_id": "48463125417a406ba12b040c690df196",
       "version_major": 2,
       "version_minor": 0
      },
      "text/plain": [
       "Training: 0it [00:00, ?it/s]"
      ]
     },
     "metadata": {},
     "output_type": "display_data"
    },
    {
     "data": {
      "application/vnd.jupyter.widget-view+json": {
       "model_id": "",
       "version_major": 2,
       "version_minor": 0
      },
      "text/plain": [
       "Validating: 0it [00:00, ?it/s]"
      ]
     },
     "metadata": {},
     "output_type": "display_data"
    },
    {
     "data": {
      "application/vnd.jupyter.widget-view+json": {
       "model_id": "",
       "version_major": 2,
       "version_minor": 0
      },
      "text/plain": [
       "Validating: 0it [00:00, ?it/s]"
      ]
     },
     "metadata": {},
     "output_type": "display_data"
    },
    {
     "data": {
      "text/plain": [
       "1"
      ]
     },
     "execution_count": 47,
     "metadata": {},
     "output_type": "execute_result"
    }
   ],
   "source": [
    "trainer.fit(model, dm)"
   ]
  },
  {
   "cell_type": "code",
   "execution_count": 84,
   "metadata": {
    "ExecuteTime": {
     "end_time": "2021-01-20T13:31:51.888107Z",
     "start_time": "2021-01-20T13:31:51.859261Z"
    },
    "execution": {
     "iopub.execute_input": "2021-05-27T09:41:48.953512Z",
     "iopub.status.busy": "2021-05-27T09:41:48.953368Z",
     "iopub.status.idle": "2021-05-27T09:42:00.387937Z",
     "shell.execute_reply": "2021-05-27T09:42:00.387476Z",
     "shell.execute_reply.started": "2021-05-27T09:41:48.953495Z"
    }
   },
   "outputs": [
    {
     "data": {
      "text/plain": [
       "1"
      ]
     },
     "execution_count": 84,
     "metadata": {},
     "output_type": "execute_result"
    }
   ],
   "source": [
    "trainer.test()"
   ]
  },
  {
   "cell_type": "code",
   "execution_count": 85,
   "metadata": {
    "ExecuteTime": {
     "end_time": "2021-01-20T13:31:51.888107Z",
     "start_time": "2021-01-20T13:31:51.859261Z"
    },
    "execution": {
     "iopub.execute_input": "2021-05-27T09:42:00.389085Z",
     "iopub.status.busy": "2021-05-27T09:42:00.388878Z",
     "iopub.status.idle": "2021-05-27T09:42:01.726843Z",
     "shell.execute_reply": "2021-05-27T09:42:01.726411Z",
     "shell.execute_reply.started": "2021-05-27T09:42:00.389054Z"
    }
   },
   "outputs": [],
   "source": [
    "trainer.save_checkpoint('model1_fruits.ckpt')"
   ]
  },
  {
   "cell_type": "code",
   "execution_count": null,
   "metadata": {},
   "outputs": [],
   "source": []
  },
  {
   "cell_type": "code",
   "execution_count": null,
   "metadata": {},
   "outputs": [],
   "source": []
  },
  {
   "cell_type": "code",
   "execution_count": null,
   "metadata": {},
   "outputs": [],
   "source": []
  },
  {
   "cell_type": "code",
   "execution_count": null,
   "metadata": {},
   "outputs": [],
   "source": []
  },
  {
   "cell_type": "code",
   "execution_count": null,
   "metadata": {},
   "outputs": [],
   "source": []
  },
  {
   "cell_type": "code",
   "execution_count": null,
   "metadata": {},
   "outputs": [],
   "source": []
  },
  {
   "cell_type": "code",
   "execution_count": null,
   "metadata": {},
   "outputs": [],
   "source": []
  },
  {
   "cell_type": "code",
   "execution_count": null,
   "metadata": {},
   "outputs": [],
   "source": []
  }
 ],
 "metadata": {
  "kernelspec": {
   "display_name": "Python 3",
   "language": "python",
   "name": "python3"
  },
  "language_info": {
   "codemirror_mode": {
    "name": "ipython",
    "version": 3
   },
   "file_extension": ".py",
   "mimetype": "text/x-python",
   "name": "python",
   "nbconvert_exporter": "python",
   "pygments_lexer": "ipython3",
   "version": "3.9.1"
  },
  "toc": {
   "base_numbering": 1,
   "nav_menu": {},
   "number_sections": true,
   "sideBar": true,
   "skip_h1_title": false,
   "title_cell": "Table of Contents",
   "title_sidebar": "Contents",
   "toc_cell": false,
   "toc_position": {},
   "toc_section_display": true,
   "toc_window_display": false
  },
  "varInspector": {
   "cols": {
    "lenName": 16,
    "lenType": 16,
    "lenVar": 40
   },
   "kernels_config": {
    "python": {
     "delete_cmd_postfix": "",
     "delete_cmd_prefix": "del ",
     "library": "var_list.py",
     "varRefreshCmd": "print(var_dic_list())"
    },
    "r": {
     "delete_cmd_postfix": ") ",
     "delete_cmd_prefix": "rm(",
     "library": "var_list.r",
     "varRefreshCmd": "cat(var_dic_list()) "
    }
   },
   "types_to_exclude": [
    "module",
    "function",
    "builtin_function_or_method",
    "instance",
    "_Feature"
   ],
   "window_display": false
  }
 },
 "nbformat": 4,
 "nbformat_minor": 4
}
