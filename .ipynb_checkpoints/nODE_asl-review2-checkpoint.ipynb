{
 "cells": [
  {
   "cell_type": "code",
   "execution_count": 1,
   "metadata": {
    "ExecuteTime": {
     "end_time": "2021-01-20T13:09:42.093682Z",
     "start_time": "2021-01-20T13:09:42.090482Z"
    },
    "execution": {
     "iopub.execute_input": "2021-04-18T17:29:10.994663Z",
     "iopub.status.busy": "2021-04-18T17:29:10.994529Z",
     "iopub.status.idle": "2021-04-18T17:29:12.287060Z",
     "shell.execute_reply": "2021-04-18T17:29:12.286614Z",
     "shell.execute_reply.started": "2021-04-18T17:29:10.994625Z"
    },
    "run_control": {
     "marked": false
    }
   },
   "outputs": [],
   "source": [
    "import matplotlib.pyplot as plt\n",
    "import pandas as pd\n",
    "import os\n",
    "import glob\n",
    "import cv2\n",
    "import json\n",
    "from collections import Counter\n",
    "import pickle\n",
    "import numpy as np\n",
    "\n",
    "from efficientnet_pytorch import EfficientNet\n",
    "\n",
    "import torch.optim as optim\n",
    "import torch\n",
    "from torch import nn\n",
    "from torch.utils.data import DataLoader, random_split\n",
    "from torch.nn import functional as F\n",
    "from torch.utils.data import Dataset, TensorDataset, DataLoader\n",
    "from torch.utils.tensorboard import SummaryWriter\n",
    "\n",
    "import torchvision\n",
    "from torchvision.datasets import ImageFolder\n",
    "from torchvision import datasets, transforms\n",
    "from torchdiffeq import odeint\n",
    "\n",
    "import pytorch_lightning as pl\n",
    "from pytorch_lightning import Trainer\n",
    "from pytorch_lightning.loggers import CSVLogger, TensorBoardLogger\n",
    "from pytorch_lightning.metrics.functional import accuracy\n",
    "from pytorch_lightning.callbacks.early_stopping import EarlyStopping\n",
    "\n",
    "import albumentations as A\n",
    "from albumentations.core.composition import Compose\n",
    "from albumentations.pytorch import ToTensorV2\n",
    "\n",
    "from sklearn import metrics, model_selection,preprocessing\n",
    "from sklearn.model_selection import StratifiedKFold\n",
    "from sklearn.metrics import confusion_matrix\n",
    "\n",
    "\n",
    "import optuna\n",
    "from optuna.integration import PyTorchLightningPruningCallback\n",
    "os.environ[\"TORCH_HOME\"] = \"/media/hdd/Datasets/\""
   ]
  },
  {
   "cell_type": "code",
   "execution_count": 2,
   "metadata": {
    "execution": {
     "iopub.execute_input": "2021-04-18T17:29:12.287965Z",
     "iopub.status.busy": "2021-04-18T17:29:12.287839Z",
     "iopub.status.idle": "2021-04-18T17:29:12.293003Z",
     "shell.execute_reply": "2021-04-18T17:29:12.292674Z",
     "shell.execute_reply.started": "2021-04-18T17:29:12.287951Z"
    }
   },
   "outputs": [],
   "source": [
    "import torchsnooper as sn"
   ]
  },
  {
   "cell_type": "markdown",
   "metadata": {},
   "source": [
    "# Look at data \n",
    "- Create a csv for easy loading"
   ]
  },
  {
   "cell_type": "code",
   "execution_count": 3,
   "metadata": {
    "execution": {
     "iopub.execute_input": "2021-04-18T17:29:12.293789Z",
     "iopub.status.busy": "2021-04-18T17:29:12.293619Z",
     "iopub.status.idle": "2021-04-18T17:29:12.296110Z",
     "shell.execute_reply": "2021-04-18T17:29:12.295614Z",
     "shell.execute_reply.started": "2021-04-18T17:29:12.293775Z"
    }
   },
   "outputs": [],
   "source": [
    "main_path = \"/media/hdd/Datasets/asl/\""
   ]
  },
  {
   "cell_type": "code",
   "execution_count": 4,
   "metadata": {
    "execution": {
     "iopub.execute_input": "2021-04-18T17:29:12.296772Z",
     "iopub.status.busy": "2021-04-18T17:29:12.296665Z",
     "iopub.status.idle": "2021-04-18T17:29:12.417680Z",
     "shell.execute_reply": "2021-04-18T17:29:12.417284Z",
     "shell.execute_reply.started": "2021-04-18T17:29:12.296759Z"
    }
   },
   "outputs": [
    {
     "data": {
      "text/plain": [
       "'/media/hdd/Datasets/asl/asl_alphabet_train/asl_alphabet_train/V/V1968.jpg'"
      ]
     },
     "execution_count": 4,
     "metadata": {},
     "output_type": "execute_result"
    }
   ],
   "source": [
    "all_ims = glob.glob(main_path+\"/*/*/*/*.jpg\");all_ims[0]"
   ]
  },
  {
   "cell_type": "code",
   "execution_count": 5,
   "metadata": {
    "execution": {
     "iopub.execute_input": "2021-04-18T17:29:12.418449Z",
     "iopub.status.busy": "2021-04-18T17:29:12.418345Z",
     "iopub.status.idle": "2021-04-18T17:29:12.420949Z",
     "shell.execute_reply": "2021-04-18T17:29:12.420654Z",
     "shell.execute_reply.started": "2021-04-18T17:29:12.418436Z"
    }
   },
   "outputs": [
    {
     "data": {
      "text/plain": [
       "87000"
      ]
     },
     "execution_count": 5,
     "metadata": {},
     "output_type": "execute_result"
    }
   ],
   "source": [
    "len(all_ims)"
   ]
  },
  {
   "cell_type": "code",
   "execution_count": 6,
   "metadata": {
    "execution": {
     "iopub.execute_input": "2021-04-18T17:29:12.421796Z",
     "iopub.status.busy": "2021-04-18T17:29:12.421690Z",
     "iopub.status.idle": "2021-04-18T17:29:12.425405Z",
     "shell.execute_reply": "2021-04-18T17:29:12.424986Z",
     "shell.execute_reply.started": "2021-04-18T17:29:12.421783Z"
    }
   },
   "outputs": [],
   "source": [
    "def create_label(x):\n",
    "    return x.split(\"/\")[-2]"
   ]
  },
  {
   "cell_type": "code",
   "execution_count": 7,
   "metadata": {
    "execution": {
     "iopub.execute_input": "2021-04-18T17:29:12.426827Z",
     "iopub.status.busy": "2021-04-18T17:29:12.426718Z",
     "iopub.status.idle": "2021-04-18T17:29:12.478500Z",
     "shell.execute_reply": "2021-04-18T17:29:12.478073Z",
     "shell.execute_reply.started": "2021-04-18T17:29:12.426813Z"
    }
   },
   "outputs": [],
   "source": [
    "df = pd.DataFrame.from_dict({x:create_label(x) for x in all_ims} ,orient='index').reset_index()\n",
    "df.columns = [\"image_id\",\"label\"]"
   ]
  },
  {
   "cell_type": "code",
   "execution_count": 8,
   "metadata": {
    "execution": {
     "iopub.execute_input": "2021-04-18T17:29:12.479461Z",
     "iopub.status.busy": "2021-04-18T17:29:12.479352Z",
     "iopub.status.idle": "2021-04-18T17:29:12.485764Z",
     "shell.execute_reply": "2021-04-18T17:29:12.485349Z",
     "shell.execute_reply.started": "2021-04-18T17:29:12.479448Z"
    },
    "scrolled": true
   },
   "outputs": [
    {
     "data": {
      "text/html": [
       "<div>\n",
       "<style scoped>\n",
       "    .dataframe tbody tr th:only-of-type {\n",
       "        vertical-align: middle;\n",
       "    }\n",
       "\n",
       "    .dataframe tbody tr th {\n",
       "        vertical-align: top;\n",
       "    }\n",
       "\n",
       "    .dataframe thead th {\n",
       "        text-align: right;\n",
       "    }\n",
       "</style>\n",
       "<table border=\"1\" class=\"dataframe\">\n",
       "  <thead>\n",
       "    <tr style=\"text-align: right;\">\n",
       "      <th></th>\n",
       "      <th>image_id</th>\n",
       "      <th>label</th>\n",
       "    </tr>\n",
       "  </thead>\n",
       "  <tbody>\n",
       "    <tr>\n",
       "      <th>0</th>\n",
       "      <td>/media/hdd/Datasets/asl/asl_alphabet_train/asl...</td>\n",
       "      <td>V</td>\n",
       "    </tr>\n",
       "    <tr>\n",
       "      <th>1</th>\n",
       "      <td>/media/hdd/Datasets/asl/asl_alphabet_train/asl...</td>\n",
       "      <td>V</td>\n",
       "    </tr>\n",
       "    <tr>\n",
       "      <th>2</th>\n",
       "      <td>/media/hdd/Datasets/asl/asl_alphabet_train/asl...</td>\n",
       "      <td>V</td>\n",
       "    </tr>\n",
       "    <tr>\n",
       "      <th>3</th>\n",
       "      <td>/media/hdd/Datasets/asl/asl_alphabet_train/asl...</td>\n",
       "      <td>V</td>\n",
       "    </tr>\n",
       "    <tr>\n",
       "      <th>4</th>\n",
       "      <td>/media/hdd/Datasets/asl/asl_alphabet_train/asl...</td>\n",
       "      <td>V</td>\n",
       "    </tr>\n",
       "  </tbody>\n",
       "</table>\n",
       "</div>"
      ],
      "text/plain": [
       "                                            image_id label\n",
       "0  /media/hdd/Datasets/asl/asl_alphabet_train/asl...     V\n",
       "1  /media/hdd/Datasets/asl/asl_alphabet_train/asl...     V\n",
       "2  /media/hdd/Datasets/asl/asl_alphabet_train/asl...     V\n",
       "3  /media/hdd/Datasets/asl/asl_alphabet_train/asl...     V\n",
       "4  /media/hdd/Datasets/asl/asl_alphabet_train/asl...     V"
      ]
     },
     "execution_count": 8,
     "metadata": {},
     "output_type": "execute_result"
    }
   ],
   "source": [
    "df.head()"
   ]
  },
  {
   "cell_type": "code",
   "execution_count": 9,
   "metadata": {
    "execution": {
     "iopub.execute_input": "2021-04-18T17:29:12.486390Z",
     "iopub.status.busy": "2021-04-18T17:29:12.486280Z",
     "iopub.status.idle": "2021-04-18T17:29:12.488289Z",
     "shell.execute_reply": "2021-04-18T17:29:12.487898Z",
     "shell.execute_reply.started": "2021-04-18T17:29:12.486377Z"
    }
   },
   "outputs": [],
   "source": [
    "df_b = df"
   ]
  },
  {
   "cell_type": "code",
   "execution_count": 10,
   "metadata": {
    "execution": {
     "iopub.execute_input": "2021-04-18T17:29:12.489037Z",
     "iopub.status.busy": "2021-04-18T17:29:12.488903Z",
     "iopub.status.idle": "2021-04-18T17:29:12.495647Z",
     "shell.execute_reply": "2021-04-18T17:29:12.495185Z",
     "shell.execute_reply.started": "2021-04-18T17:29:12.489017Z"
    }
   },
   "outputs": [
    {
     "data": {
      "text/plain": [
       "array(['V', 'S', 'M', 'K', 'Y', 'W', 'nothing', 'E', 'D', 'U', 'N', 'A',\n",
       "       'R', 'B', 'F', 'T', 'G', 'C', 'Z', 'X', 'O', 'L', 'P', 'H',\n",
       "       'space', 'J', 'Q', 'I', 'del'], dtype=object)"
      ]
     },
     "execution_count": 10,
     "metadata": {},
     "output_type": "execute_result"
    }
   ],
   "source": [
    "df.label.unique()"
   ]
  },
  {
   "cell_type": "code",
   "execution_count": 11,
   "metadata": {
    "execution": {
     "iopub.execute_input": "2021-04-18T17:29:12.496550Z",
     "iopub.status.busy": "2021-04-18T17:29:12.496387Z",
     "iopub.status.idle": "2021-04-18T17:29:12.502139Z",
     "shell.execute_reply": "2021-04-18T17:29:12.501837Z",
     "shell.execute_reply.started": "2021-04-18T17:29:12.496528Z"
    }
   },
   "outputs": [
    {
     "data": {
      "text/plain": [
       "array(['V', 'S', 'M', 'K', 'Y', 'W', 'nothing', 'E', 'D', 'U'],\n",
       "      dtype=object)"
      ]
     },
     "execution_count": 11,
     "metadata": {},
     "output_type": "execute_result"
    }
   ],
   "source": [
    "subs = df.label.unique()[:10];subs"
   ]
  },
  {
   "cell_type": "code",
   "execution_count": 12,
   "metadata": {
    "execution": {
     "iopub.execute_input": "2021-04-18T17:29:12.502761Z",
     "iopub.status.busy": "2021-04-18T17:29:12.502656Z",
     "iopub.status.idle": "2021-04-18T17:29:12.510117Z",
     "shell.execute_reply": "2021-04-18T17:29:12.509815Z",
     "shell.execute_reply.started": "2021-04-18T17:29:12.502748Z"
    }
   },
   "outputs": [],
   "source": [
    "df = df[df[\"label\"].isin(subs)]"
   ]
  },
  {
   "cell_type": "code",
   "execution_count": 13,
   "metadata": {
    "execution": {
     "iopub.execute_input": "2021-04-18T17:29:12.510769Z",
     "iopub.status.busy": "2021-04-18T17:29:12.510658Z",
     "iopub.status.idle": "2021-04-18T17:29:12.514341Z",
     "shell.execute_reply": "2021-04-18T17:29:12.513968Z",
     "shell.execute_reply.started": "2021-04-18T17:29:12.510754Z"
    }
   },
   "outputs": [
    {
     "data": {
      "text/plain": [
       "array(['V', 'S', 'M', 'K', 'Y', 'W', 'nothing', 'E', 'D', 'U'],\n",
       "      dtype=object)"
      ]
     },
     "execution_count": 13,
     "metadata": {},
     "output_type": "execute_result"
    }
   ],
   "source": [
    "df.label.unique()"
   ]
  },
  {
   "cell_type": "code",
   "execution_count": 14,
   "metadata": {
    "execution": {
     "iopub.execute_input": "2021-04-18T17:29:12.515038Z",
     "iopub.status.busy": "2021-04-18T17:29:12.514931Z",
     "iopub.status.idle": "2021-04-18T17:29:12.521707Z",
     "shell.execute_reply": "2021-04-18T17:29:12.521309Z",
     "shell.execute_reply.started": "2021-04-18T17:29:12.515024Z"
    }
   },
   "outputs": [
    {
     "name": "stderr",
     "output_type": "stream",
     "text": [
      "<ipython-input-14-fb7f94e2e3de>:2: SettingWithCopyWarning: \n",
      "A value is trying to be set on a copy of a slice from a DataFrame.\n",
      "Try using .loc[row_indexer,col_indexer] = value instead\n",
      "\n",
      "See the caveats in the documentation: https://pandas.pydata.org/pandas-docs/stable/user_guide/indexing.html#returning-a-view-versus-a-copy\n",
      "  df['label'] = temp.fit_transform(df.label.values)\n"
     ]
    }
   ],
   "source": [
    "temp = preprocessing.LabelEncoder()\n",
    "df['label'] = temp.fit_transform(df.label.values)"
   ]
  },
  {
   "cell_type": "code",
   "execution_count": 15,
   "metadata": {
    "execution": {
     "iopub.execute_input": "2021-04-18T17:29:12.522472Z",
     "iopub.status.busy": "2021-04-18T17:29:12.522356Z",
     "iopub.status.idle": "2021-04-18T17:29:12.524810Z",
     "shell.execute_reply": "2021-04-18T17:29:12.524349Z",
     "shell.execute_reply.started": "2021-04-18T17:29:12.522458Z"
    }
   },
   "outputs": [],
   "source": [
    "label_map=  {i: l for i, l in enumerate(temp.classes_)}"
   ]
  },
  {
   "cell_type": "code",
   "execution_count": 16,
   "metadata": {
    "execution": {
     "iopub.execute_input": "2021-04-18T17:29:12.525656Z",
     "iopub.status.busy": "2021-04-18T17:29:12.525455Z",
     "iopub.status.idle": "2021-04-18T17:29:12.528772Z",
     "shell.execute_reply": "2021-04-18T17:29:12.528390Z",
     "shell.execute_reply.started": "2021-04-18T17:29:12.525641Z"
    }
   },
   "outputs": [
    {
     "data": {
      "text/plain": [
       "10"
      ]
     },
     "execution_count": 16,
     "metadata": {},
     "output_type": "execute_result"
    }
   ],
   "source": [
    "df.label.nunique()"
   ]
  },
  {
   "cell_type": "code",
   "execution_count": 17,
   "metadata": {
    "execution": {
     "iopub.execute_input": "2021-04-18T17:29:12.529442Z",
     "iopub.status.busy": "2021-04-18T17:29:12.529334Z",
     "iopub.status.idle": "2021-04-18T17:29:12.532971Z",
     "shell.execute_reply": "2021-04-18T17:29:12.532577Z",
     "shell.execute_reply.started": "2021-04-18T17:29:12.529428Z"
    },
    "scrolled": true
   },
   "outputs": [
    {
     "data": {
      "text/plain": [
       "0    3000\n",
       "1    3000\n",
       "2    3000\n",
       "3    3000\n",
       "4    3000\n",
       "5    3000\n",
       "6    3000\n",
       "7    3000\n",
       "8    3000\n",
       "9    3000\n",
       "Name: label, dtype: int64"
      ]
     },
     "execution_count": 17,
     "metadata": {},
     "output_type": "execute_result"
    }
   ],
   "source": [
    "df.label.value_counts()"
   ]
  },
  {
   "cell_type": "code",
   "execution_count": 18,
   "metadata": {
    "execution": {
     "iopub.execute_input": "2021-04-18T17:29:12.533731Z",
     "iopub.status.busy": "2021-04-18T17:29:12.533615Z",
     "iopub.status.idle": "2021-04-18T17:29:12.880515Z",
     "shell.execute_reply": "2021-04-18T17:29:12.880061Z",
     "shell.execute_reply.started": "2021-04-18T17:29:12.533717Z"
    }
   },
   "outputs": [
    {
     "name": "stderr",
     "output_type": "stream",
     "text": [
      "<ipython-input-18-92b5a9b7db8e>:1: SettingWithCopyWarning: \n",
      "A value is trying to be set on a copy of a slice from a DataFrame.\n",
      "Try using .loc[row_indexer,col_indexer] = value instead\n",
      "\n",
      "See the caveats in the documentation: https://pandas.pydata.org/pandas-docs/stable/user_guide/indexing.html#returning-a-view-versus-a-copy\n",
      "  df[\"kfold\"] = -1\n"
     ]
    }
   ],
   "source": [
    "df[\"kfold\"] = -1\n",
    "df = df.sample(frac=1).reset_index(drop=True)\n",
    "stratify = StratifiedKFold(n_splits=5)\n",
    "for i, (t_idx, v_idx) in enumerate(\n",
    "        stratify.split(X=df.image_id.values, y=df.label.values)):\n",
    "    df.loc[v_idx, \"kfold\"] = i\n",
    "    df.to_csv(\"train_folds.csv\", index=False)"
   ]
  },
  {
   "cell_type": "code",
   "execution_count": 19,
   "metadata": {
    "execution": {
     "iopub.execute_input": "2021-04-18T17:29:12.881540Z",
     "iopub.status.busy": "2021-04-18T17:29:12.881375Z",
     "iopub.status.idle": "2021-04-18T17:29:12.910066Z",
     "shell.execute_reply": "2021-04-18T17:29:12.909704Z",
     "shell.execute_reply.started": "2021-04-18T17:29:12.881519Z"
    }
   },
   "outputs": [
    {
     "data": {
      "text/html": [
       "<div>\n",
       "<style scoped>\n",
       "    .dataframe tbody tr th:only-of-type {\n",
       "        vertical-align: middle;\n",
       "    }\n",
       "\n",
       "    .dataframe tbody tr th {\n",
       "        vertical-align: top;\n",
       "    }\n",
       "\n",
       "    .dataframe thead th {\n",
       "        text-align: right;\n",
       "    }\n",
       "</style>\n",
       "<table border=\"1\" class=\"dataframe\">\n",
       "  <thead>\n",
       "    <tr style=\"text-align: right;\">\n",
       "      <th></th>\n",
       "      <th>image_id</th>\n",
       "      <th>label</th>\n",
       "      <th>kfold</th>\n",
       "    </tr>\n",
       "  </thead>\n",
       "  <tbody>\n",
       "    <tr>\n",
       "      <th>0</th>\n",
       "      <td>/media/hdd/Datasets/asl/asl_alphabet_train/asl...</td>\n",
       "      <td>4</td>\n",
       "      <td>0</td>\n",
       "    </tr>\n",
       "  </tbody>\n",
       "</table>\n",
       "</div>"
      ],
      "text/plain": [
       "                                            image_id  label  kfold\n",
       "0  /media/hdd/Datasets/asl/asl_alphabet_train/asl...      4      0"
      ]
     },
     "execution_count": 19,
     "metadata": {},
     "output_type": "execute_result"
    }
   ],
   "source": [
    "pd.read_csv(\"train_folds.csv\").head(1)"
   ]
  },
  {
   "cell_type": "markdown",
   "metadata": {},
   "source": [
    "# Architecture"
   ]
  },
  {
   "cell_type": "code",
   "execution_count": 20,
   "metadata": {
    "execution": {
     "iopub.execute_input": "2021-04-18T17:29:12.910731Z",
     "iopub.status.busy": "2021-04-18T17:29:12.910614Z",
     "iopub.status.idle": "2021-04-18T17:29:12.912938Z",
     "shell.execute_reply": "2021-04-18T17:29:12.912538Z",
     "shell.execute_reply.started": "2021-04-18T17:29:12.910716Z"
    }
   },
   "outputs": [],
   "source": [
    "def conv3x3(in_planes, out_planes, stride=1):\n",
    "    return nn.Conv2d(in_planes, out_planes, kernel_size=3, stride=stride, padding=1, bias=False)"
   ]
  },
  {
   "cell_type": "code",
   "execution_count": 21,
   "metadata": {
    "execution": {
     "iopub.execute_input": "2021-04-18T17:29:12.914051Z",
     "iopub.status.busy": "2021-04-18T17:29:12.913825Z",
     "iopub.status.idle": "2021-04-18T17:29:12.916904Z",
     "shell.execute_reply": "2021-04-18T17:29:12.916435Z",
     "shell.execute_reply.started": "2021-04-18T17:29:12.914030Z"
    }
   },
   "outputs": [],
   "source": [
    "def conv1x1(in_planes, out_planes, stride=1):\n",
    "    return nn.Conv2d(in_planes, out_planes, kernel_size=1, stride=stride, bias=False)"
   ]
  },
  {
   "cell_type": "code",
   "execution_count": 22,
   "metadata": {
    "execution": {
     "iopub.execute_input": "2021-04-18T17:29:12.917738Z",
     "iopub.status.busy": "2021-04-18T17:29:12.917585Z",
     "iopub.status.idle": "2021-04-18T17:29:12.920395Z",
     "shell.execute_reply": "2021-04-18T17:29:12.919920Z",
     "shell.execute_reply.started": "2021-04-18T17:29:12.917718Z"
    }
   },
   "outputs": [],
   "source": [
    "def norm(dim):\n",
    "    return nn.GroupNorm(min(32, dim), dim)"
   ]
  },
  {
   "cell_type": "code",
   "execution_count": 23,
   "metadata": {
    "execution": {
     "iopub.execute_input": "2021-04-18T17:29:12.921109Z",
     "iopub.status.busy": "2021-04-18T17:29:12.920996Z",
     "iopub.status.idle": "2021-04-18T17:29:12.924716Z",
     "shell.execute_reply": "2021-04-18T17:29:12.924428Z",
     "shell.execute_reply.started": "2021-04-18T17:29:12.921095Z"
    }
   },
   "outputs": [],
   "source": [
    "class ResBlock(nn.Module):\n",
    "    expansion = 1\n",
    "\n",
    "    def __init__(self, inplanes, planes, stride=1, downsample=None):\n",
    "        super(ResBlock, self).__init__()\n",
    "        self.norm1 = norm(inplanes)\n",
    "        self.relu = nn.ReLU(inplace=True)\n",
    "        self.downsample = downsample\n",
    "        self.conv1 = conv3x3(inplanes, planes, stride)\n",
    "        self.norm2 = norm(planes)\n",
    "        self.conv2 = conv3x3(planes, planes)\n",
    "\n",
    "    def forward(self, x):\n",
    "        shortcut = x\n",
    "\n",
    "        out = self.relu(self.norm1(x))\n",
    "\n",
    "        if self.downsample is not None:\n",
    "            shortcut = self.downsample(out)\n",
    "\n",
    "        out = self.conv1(out)\n",
    "        out = self.norm2(out)\n",
    "        out = self.relu(out)\n",
    "        out = self.conv2(out)\n",
    "\n",
    "        return out + shortcut"
   ]
  },
  {
   "cell_type": "code",
   "execution_count": 24,
   "metadata": {
    "execution": {
     "iopub.execute_input": "2021-04-18T17:29:12.925384Z",
     "iopub.status.busy": "2021-04-18T17:29:12.925273Z",
     "iopub.status.idle": "2021-04-18T17:29:12.928704Z",
     "shell.execute_reply": "2021-04-18T17:29:12.928377Z",
     "shell.execute_reply.started": "2021-04-18T17:29:12.925370Z"
    }
   },
   "outputs": [],
   "source": [
    "class ConcatConv2d(nn.Module):\n",
    "\n",
    "    def __init__(self, dim_in, dim_out, ksize=3, stride=1, padding=0, dilation=1, groups=1, bias=True, transpose=False):\n",
    "        super(ConcatConv2d, self).__init__()\n",
    "        module = nn.ConvTranspose2d if transpose else nn.Conv2d\n",
    "        self._layer = module(\n",
    "            dim_in + 1, dim_out, kernel_size=ksize, stride=stride, padding=padding, dilation=dilation, groups=groups,\n",
    "            bias=bias\n",
    "        )\n",
    "\n",
    "    def forward(self, t, x):\n",
    "        tt = torch.ones_like(x[:, :1, :, :]) * t\n",
    "        ttx = torch.cat([tt, x], 1)\n",
    "        return self._layer(ttx)"
   ]
  },
  {
   "cell_type": "code",
   "execution_count": 25,
   "metadata": {
    "execution": {
     "iopub.execute_input": "2021-04-18T17:29:12.930618Z",
     "iopub.status.busy": "2021-04-18T17:29:12.930466Z",
     "iopub.status.idle": "2021-04-18T17:29:12.934207Z",
     "shell.execute_reply": "2021-04-18T17:29:12.933793Z",
     "shell.execute_reply.started": "2021-04-18T17:29:12.930602Z"
    }
   },
   "outputs": [],
   "source": [
    "class ODEfunc(nn.Module):\n",
    "\n",
    "    def __init__(self, dim):\n",
    "        super(ODEfunc, self).__init__()\n",
    "        self.norm1 = norm(dim)\n",
    "        self.relu = nn.ReLU(inplace=True)\n",
    "        self.conv1 = ConcatConv2d(dim, dim, 3, 1, 1)\n",
    "        self.norm2 = norm(dim)\n",
    "        self.conv2 = ConcatConv2d(dim, dim, 3, 1, 1)\n",
    "        self.norm3 = norm(dim)\n",
    "        self.nfe = 0\n",
    "\n",
    "    def forward(self, t, x):\n",
    "        self.nfe += 1\n",
    "        out = self.norm1(x)\n",
    "        out = self.relu(out)\n",
    "        out = self.conv1(t, out)\n",
    "        out = self.norm2(out)\n",
    "        out = self.relu(out)\n",
    "        out = self.conv2(t, out)\n",
    "        out = self.norm3(out)\n",
    "        return out"
   ]
  },
  {
   "cell_type": "code",
   "execution_count": 26,
   "metadata": {
    "execution": {
     "iopub.execute_input": "2021-04-18T17:29:12.935093Z",
     "iopub.status.busy": "2021-04-18T17:29:12.934981Z",
     "iopub.status.idle": "2021-04-18T17:29:12.940380Z",
     "shell.execute_reply": "2021-04-18T17:29:12.940012Z",
     "shell.execute_reply.started": "2021-04-18T17:29:12.935079Z"
    }
   },
   "outputs": [],
   "source": [
    "class ODEBlock(nn.Module):\n",
    "\n",
    "    def __init__(self, odefunc):\n",
    "        super(ODEBlock, self).__init__()\n",
    "        self.odefunc = odefunc\n",
    "        self.integration_time = torch.tensor([0, 1]).float()\n",
    "\n",
    "    def forward(self, oui):\n",
    "        self.integration_time = self.integration_time.type_as(oui)\n",
    "        out = odeint(self.odefunc, oui, self.integration_time, rtol=1e-3, atol=1e-3)\n",
    "        return oui\n",
    "\n",
    "    @property\n",
    "    def nfe(self):\n",
    "        return self.odefunc.nfe\n",
    "\n",
    "    @nfe.setter\n",
    "    def nfe(self, value):\n",
    "        self.odefunc.nfe = value"
   ]
  },
  {
   "cell_type": "code",
   "execution_count": 27,
   "metadata": {
    "execution": {
     "iopub.execute_input": "2021-04-18T17:29:12.941057Z",
     "iopub.status.busy": "2021-04-18T17:29:12.940944Z",
     "iopub.status.idle": "2021-04-18T17:29:12.943924Z",
     "shell.execute_reply": "2021-04-18T17:29:12.943486Z",
     "shell.execute_reply.started": "2021-04-18T17:29:12.941042Z"
    }
   },
   "outputs": [],
   "source": [
    "class Flatten(nn.Module):\n",
    "\n",
    "    def __init__(self):\n",
    "        super(Flatten, self).__init__()\n",
    "\n",
    "    def forward(self, x):\n",
    "        shape = torch.prod(torch.tensor(x.shape[1:])).item()\n",
    "        return x.view(-1, shape)"
   ]
  },
  {
   "cell_type": "markdown",
   "metadata": {},
   "source": [
    "# Create model"
   ]
  },
  {
   "cell_type": "code",
   "execution_count": 28,
   "metadata": {
    "ExecuteTime": {
     "end_time": "2021-01-20T13:11:34.466990Z",
     "start_time": "2021-01-20T13:11:34.459999Z"
    },
    "execution": {
     "iopub.execute_input": "2021-04-18T17:29:12.944443Z",
     "iopub.status.busy": "2021-04-18T17:29:12.944339Z",
     "iopub.status.idle": "2021-04-18T17:29:12.954740Z",
     "shell.execute_reply": "2021-04-18T17:29:12.954292Z",
     "shell.execute_reply.started": "2021-04-18T17:29:12.944430Z"
    }
   },
   "outputs": [],
   "source": [
    "# Efficient net b5\n",
    "# @sn.snoop()\n",
    "class LitModel(pl.LightningModule):\n",
    "    def __init__(self, num_classes, learning_rate=1e-4, weight_decay=0.0001):\n",
    "        super().__init__()\n",
    "\n",
    "        # log hyperparameters\n",
    "        self.save_hyperparameters()\n",
    "        self.num_classes = num_classes\n",
    "\n",
    "        self.learning_rate = learning_rate\n",
    "        self.weight_decay = weight_decay\n",
    "\n",
    "        self.enet = EfficientNet.from_pretrained('efficientnet-b5',num_classes=self.num_classes)\n",
    "        self.enet._bn1 = nn.Sequential(\n",
    "                ODEBlock(ODEfunc(2048)),\n",
    "                nn.BatchNorm2d(2048, eps=0.001, momentum=0.010000000000000009, affine=True, track_running_stats=True),\n",
    "        )\n",
    "        in_features = self.enet._fc.in_features\n",
    "        self.enet._fc = nn.Linear(in_features, num_classes)\n",
    "\n",
    "#     @sn.snoop()\n",
    "    def forward(self, x):\n",
    "        out = self.enet(x)\n",
    "        return out\n",
    "\n",
    "    def configure_optimizers(self):\n",
    "        optimizer = torch.optim.AdamW(self.parameters(),\n",
    "                                      lr=self.learning_rate,\n",
    "                                      weight_decay=self.weight_decay)\n",
    "\n",
    "        scheduler = torch.optim.lr_scheduler.StepLR(optimizer,\n",
    "                                                    step_size=2,\n",
    "                                                    gamma=0.1)\n",
    "\n",
    "        return ([optimizer], [scheduler])\n",
    "\n",
    "\n",
    "\n",
    "    def training_step(self, train_batch, batch_idx):\n",
    "        x, y = train_batch[\"x\"], train_batch[\"y\"]\n",
    "        preds = self(x)\n",
    "        loss = F.cross_entropy(preds, y)\n",
    "        #         loss.requires_grad = True\n",
    "        acc = accuracy(preds, y)\n",
    "        self.log('train_acc_step', acc)\n",
    "        self.log('train_loss', loss)\n",
    "        return loss\n",
    "\n",
    "    def validation_step(self, val_batch, batch_idx):\n",
    "        x, y = val_batch[\"x\"], val_batch[\"y\"]\n",
    "        preds = self(x)\n",
    "        loss = F.cross_entropy(preds, y)\n",
    "        #         loss.requires_grad = True\n",
    "        acc = accuracy(preds, y)\n",
    "        self.log('val_acc_step', acc)\n",
    "        self.log('val_loss', loss)\n",
    "#         print(preds.detach().cpu(), y.detach().cpu())\n",
    "        y2 = torch.argmax(preds, dim = 1)\n",
    "        conf = confusion_matrix(y2.detach().cpu(), y.detach().cpu())\n",
    "        fig = plt.figure()\n",
    "        plt.imshow(conf)\n",
    "#         plt.show()\n",
    "        self.logger.experiment.add_figure(\"Confusion matrix\", fig, self.current_epoch)"
   ]
  },
  {
   "cell_type": "code",
   "execution_count": 29,
   "metadata": {
    "execution": {
     "iopub.execute_input": "2021-04-18T17:29:12.955490Z",
     "iopub.status.busy": "2021-04-18T17:29:12.955374Z",
     "iopub.status.idle": "2021-04-18T17:29:12.959039Z",
     "shell.execute_reply": "2021-04-18T17:29:12.958723Z",
     "shell.execute_reply.started": "2021-04-18T17:29:12.955475Z"
    }
   },
   "outputs": [],
   "source": [
    "class ImageClassDs(Dataset):\n",
    "    def __init__(self,\n",
    "                 df: pd.DataFrame,\n",
    "                 imfolder: str,\n",
    "                 train: bool = True,\n",
    "                 transforms=None):\n",
    "        self.df = df\n",
    "        self.imfolder = imfolder\n",
    "        self.train = train\n",
    "        self.transforms = transforms\n",
    "\n",
    "    def __getitem__(self, index):\n",
    "        im_path = self.df.iloc[index]['image_id']\n",
    "        x = cv2.imread(im_path, cv2.IMREAD_COLOR)\n",
    "        x = cv2.cvtColor(x, cv2.COLOR_BGR2RGB)\n",
    "\n",
    "        if (self.transforms):\n",
    "            x = self.transforms(image=x)['image']\n",
    "\n",
    "        y = self.df.iloc[index]['label']\n",
    "        return {\n",
    "            \"x\": x,\n",
    "            \"y\": y,\n",
    "        }\n",
    "\n",
    "    def __len__(self):\n",
    "        return len(self.df)"
   ]
  },
  {
   "cell_type": "markdown",
   "metadata": {},
   "source": [
    "# Load data"
   ]
  },
  {
   "cell_type": "code",
   "execution_count": 30,
   "metadata": {
    "ExecuteTime": {
     "end_time": "2021-01-20T13:11:57.734304Z",
     "start_time": "2021-01-20T13:11:57.729146Z"
    },
    "execution": {
     "iopub.execute_input": "2021-04-18T17:29:12.959733Z",
     "iopub.status.busy": "2021-04-18T17:29:12.959625Z",
     "iopub.status.idle": "2021-04-18T17:29:12.966041Z",
     "shell.execute_reply": "2021-04-18T17:29:12.965605Z",
     "shell.execute_reply.started": "2021-04-18T17:29:12.959720Z"
    }
   },
   "outputs": [],
   "source": [
    "class ImDataModule(pl.LightningDataModule):\n",
    "    def __init__(\n",
    "            self,\n",
    "            df,\n",
    "            batch_size,\n",
    "            num_classes,\n",
    "            data_dir: str = \"/media/hdd/Datasets/asl/\",\n",
    "            img_size=(256, 256)):\n",
    "        super().__init__()\n",
    "        self.df = df\n",
    "        self.data_dir = data_dir\n",
    "        self.batch_size = batch_size\n",
    "        self.train_transform = A.Compose([\n",
    "            A.RandomResizedCrop(img_size, img_size, p=1.0),\n",
    "            ToTensorV2(p=1.0),\n",
    "        ],\n",
    "            p=1.)\n",
    "\n",
    "        self.valid_transform = A.Compose([\n",
    "            A.CenterCrop(img_size, img_size, p=1.),\n",
    "            A.Resize(img_size, img_size),\n",
    "            A.Normalize(mean=[0.485, 0.456, 0.406],\n",
    "                        std=[0.229, 0.224, 0.225],\n",
    "                        max_pixel_value=255.0,\n",
    "                        p=1.0),\n",
    "            ToTensorV2(p=1.0),\n",
    "        ],\n",
    "            p=1.)\n",
    "\n",
    "    def setup(self, stage=None):\n",
    "        dfx = pd.read_csv(\"./train_folds.csv\")\n",
    "        train = dfx.loc[dfx[\"kfold\"] != 1]\n",
    "        val = dfx.loc[dfx[\"kfold\"] == 1]\n",
    "\n",
    "        self.train_dataset = ImageClassDs(train,\n",
    "                                          self.data_dir,\n",
    "                                          train=True,\n",
    "                                          transforms=self.train_transform)\n",
    "\n",
    "        self.valid_dataset = ImageClassDs(val,\n",
    "                                          self.data_dir,\n",
    "                                          train=False,\n",
    "                                          transforms=self.valid_transform)\n",
    "\n",
    "    def train_dataloader(self):\n",
    "        return DataLoader(self.train_dataset,\n",
    "                          batch_size=self.batch_size,\n",
    "                          num_workers=12,\n",
    "                          shuffle=True)\n",
    "\n",
    "    def val_dataloader(self):\n",
    "        return DataLoader(self.valid_dataset,\n",
    "                          batch_size=self.batch_size,\n",
    "                          num_workers=12)"
   ]
  },
  {
   "cell_type": "code",
   "execution_count": 31,
   "metadata": {
    "execution": {
     "iopub.execute_input": "2021-04-18T17:29:12.966731Z",
     "iopub.status.busy": "2021-04-18T17:29:12.966616Z",
     "iopub.status.idle": "2021-04-18T17:29:12.968841Z",
     "shell.execute_reply": "2021-04-18T17:29:12.968538Z",
     "shell.execute_reply.started": "2021-04-18T17:29:12.966717Z"
    }
   },
   "outputs": [],
   "source": [
    "batch_size = 128\n",
    "num_classes = 10\n",
    "img_size = 64"
   ]
  },
  {
   "cell_type": "code",
   "execution_count": 32,
   "metadata": {
    "ExecuteTime": {
     "end_time": "2021-01-20T13:11:58.135972Z",
     "start_time": "2021-01-20T13:11:58.131286Z"
    },
    "execution": {
     "iopub.execute_input": "2021-04-18T17:29:12.969481Z",
     "iopub.status.busy": "2021-04-18T17:29:12.969368Z",
     "iopub.status.idle": "2021-04-18T17:29:12.996771Z",
     "shell.execute_reply": "2021-04-18T17:29:12.996183Z",
     "shell.execute_reply.started": "2021-04-18T17:29:12.969466Z"
    }
   },
   "outputs": [],
   "source": [
    "dm = ImDataModule(df,\n",
    "                  batch_size=batch_size,\n",
    "                  num_classes=num_classes,\n",
    "                  img_size=img_size)\n",
    "class_ids = dm.setup()"
   ]
  },
  {
   "cell_type": "markdown",
   "metadata": {},
   "source": [
    "# Final model"
   ]
  },
  {
   "cell_type": "code",
   "execution_count": 33,
   "metadata": {
    "ExecuteTime": {
     "end_time": "2021-01-20T13:12:04.659921Z",
     "start_time": "2021-01-20T13:12:04.444379Z"
    },
    "execution": {
     "iopub.execute_input": "2021-04-18T17:29:12.997818Z",
     "iopub.status.busy": "2021-04-18T17:29:12.997653Z",
     "iopub.status.idle": "2021-04-18T17:29:13.684583Z",
     "shell.execute_reply": "2021-04-18T17:29:13.684207Z",
     "shell.execute_reply.started": "2021-04-18T17:29:12.997798Z"
    }
   },
   "outputs": [
    {
     "name": "stdout",
     "output_type": "stream",
     "text": [
      "Loaded pretrained weights for efficientnet-b5\n"
     ]
    }
   ],
   "source": [
    "model = LitModel(num_classes)"
   ]
  },
  {
   "cell_type": "code",
   "execution_count": 34,
   "metadata": {
    "execution": {
     "iopub.execute_input": "2021-04-18T17:29:13.685262Z",
     "iopub.status.busy": "2021-04-18T17:29:13.685151Z",
     "iopub.status.idle": "2021-04-18T17:29:13.688144Z",
     "shell.execute_reply": "2021-04-18T17:29:13.687703Z",
     "shell.execute_reply.started": "2021-04-18T17:29:13.685248Z"
    }
   },
   "outputs": [],
   "source": [
    "logger = TensorBoardLogger(\"logs/\")"
   ]
  },
  {
   "cell_type": "code",
   "execution_count": 35,
   "metadata": {
    "ExecuteTime": {
     "end_time": "2021-01-20T13:12:17.444559Z",
     "start_time": "2021-01-20T13:12:17.434634Z"
    },
    "execution": {
     "iopub.execute_input": "2021-04-18T17:29:13.688881Z",
     "iopub.status.busy": "2021-04-18T17:29:13.688683Z",
     "iopub.status.idle": "2021-04-18T17:29:15.655893Z",
     "shell.execute_reply": "2021-04-18T17:29:15.655586Z",
     "shell.execute_reply.started": "2021-04-18T17:29:13.688849Z"
    }
   },
   "outputs": [
    {
     "name": "stderr",
     "output_type": "stream",
     "text": [
      "GPU available: True, used: True\n",
      "TPU available: None, using: 0 TPU cores\n",
      "LOCAL_RANK: 0 - CUDA_VISIBLE_DEVICES: [0]\n",
      "Using native 16bit precision.\n",
      "/home/eragon/.local/lib/python3.9/site-packages/pytorch_lightning/utilities/distributed.py:50: UserWarning: plugin <class 'pytorch_lightning.plugins.sharded_plugin.DDPShardedPlugin'> has added additional required plugins as default: [<class 'pytorch_lightning.plugins.sharded_native_amp_plugin.ShardedNativeAMPPlugin'>]Extend this plugin and override `required_plugins`if this conflicts with your additional plugins.\n",
      "  warnings.warn(*args, **kwargs)\n"
     ]
    }
   ],
   "source": [
    "trainer = pl.Trainer(auto_select_gpus=True,\n",
    "                     gpus=1,\n",
    "                     precision=16,\n",
    "                     profiler=False,\n",
    "                     max_epochs=15,\n",
    "                     callbacks=[pl.callbacks.ProgressBar()],\n",
    "                     logger=logger)"
   ]
  },
  {
   "cell_type": "markdown",
   "metadata": {
    "ExecuteTime": {
     "end_time": "2021-01-20T13:14:35.107768Z",
     "start_time": "2021-01-20T13:12:18.236980Z"
    },
    "execution": {
     "iopub.execute_input": "2021-04-18T17:55:13.805224Z",
     "iopub.status.busy": "2021-04-18T17:55:13.805024Z",
     "iopub.status.idle": "2021-04-18T17:56:59.433884Z",
     "shell.execute_reply": "2021-04-18T17:56:59.433302Z",
     "shell.execute_reply.started": "2021-04-18T17:55:13.805194Z"
    }
   },
   "source": [
    "### trainer.fit(model, dm)"
   ]
  },
  {
   "cell_type": "code",
   "execution_count": 37,
   "metadata": {
    "ExecuteTime": {
     "end_time": "2021-01-20T13:31:51.888107Z",
     "start_time": "2021-01-20T13:31:51.859261Z"
    },
    "execution": {
     "iopub.execute_input": "2021-04-18T17:28:48.274532Z",
     "iopub.status.busy": "2021-04-18T17:28:48.274390Z",
     "iopub.status.idle": "2021-04-18T17:28:48.875572Z",
     "shell.execute_reply": "2021-04-18T17:28:48.875101Z",
     "shell.execute_reply.started": "2021-04-18T17:28:48.274511Z"
    }
   },
   "outputs": [
    {
     "data": {
      "text/plain": [
       "1"
      ]
     },
     "execution_count": 37,
     "metadata": {},
     "output_type": "execute_result"
    }
   ],
   "source": [
    "trainer.test()"
   ]
  },
  {
   "cell_type": "code",
   "execution_count": 38,
   "metadata": {
    "ExecuteTime": {
     "end_time": "2021-01-20T13:31:51.888107Z",
     "start_time": "2021-01-20T13:31:51.859261Z"
    },
    "execution": {
     "iopub.execute_input": "2021-04-18T17:28:48.876470Z",
     "iopub.status.busy": "2021-04-18T17:28:48.876303Z",
     "iopub.status.idle": "2021-04-18T17:28:55.526165Z",
     "shell.execute_reply": "2021-04-18T17:28:55.525778Z",
     "shell.execute_reply.started": "2021-04-18T17:28:48.876442Z"
    }
   },
   "outputs": [],
   "source": [
    "trainer.save_checkpoint('model1.ckpt')"
   ]
  },
  {
   "cell_type": "markdown",
   "metadata": {},
   "source": [
    "# Inference"
   ]
  },
  {
   "cell_type": "code",
   "execution_count": 40,
   "metadata": {
    "execution": {
     "iopub.execute_input": "2021-04-13T11:44:50.764478Z",
     "iopub.status.busy": "2021-04-13T11:44:50.764299Z",
     "iopub.status.idle": "2021-04-13T11:44:50.767126Z",
     "shell.execute_reply": "2021-04-13T11:44:50.766686Z",
     "shell.execute_reply.started": "2021-04-13T11:44:50.764447Z"
    }
   },
   "outputs": [],
   "source": [
    "best_checkpoints = trainer.checkpoint_callback.best_model_path"
   ]
  },
  {
   "cell_type": "code",
   "execution_count": 41,
   "metadata": {
    "execution": {
     "iopub.execute_input": "2021-04-13T11:44:50.813621Z",
     "iopub.status.busy": "2021-04-13T11:44:50.813474Z",
     "iopub.status.idle": "2021-04-13T11:44:51.324602Z",
     "shell.execute_reply": "2021-04-13T11:44:51.323935Z",
     "shell.execute_reply.started": "2021-04-13T11:44:50.813606Z"
    }
   },
   "outputs": [
    {
     "name": "stdout",
     "output_type": "stream",
     "text": [
      "Loaded pretrained weights for efficientnet-b5\n"
     ]
    }
   ],
   "source": [
    "pre_model = LitModel.load_from_checkpoint(checkpoint_path= best_checkpoints).to(\"cuda\")"
   ]
  },
  {
   "cell_type": "code",
   "execution_count": 42,
   "metadata": {
    "execution": {
     "iopub.execute_input": "2021-04-13T11:44:51.325781Z",
     "iopub.status.busy": "2021-04-13T11:44:51.325650Z",
     "iopub.status.idle": "2021-04-13T11:44:51.332953Z",
     "shell.execute_reply": "2021-04-13T11:44:51.332472Z",
     "shell.execute_reply.started": "2021-04-13T11:44:51.325751Z"
    }
   },
   "outputs": [],
   "source": [
    "pre_model.eval()\n",
    "pre_model.freeze()"
   ]
  },
  {
   "cell_type": "code",
   "execution_count": 43,
   "metadata": {
    "execution": {
     "iopub.execute_input": "2021-04-13T11:44:52.117672Z",
     "iopub.status.busy": "2021-04-13T11:44:52.117432Z",
     "iopub.status.idle": "2021-04-13T11:44:52.122487Z",
     "shell.execute_reply": "2021-04-13T11:44:52.121663Z",
     "shell.execute_reply.started": "2021-04-13T11:44:52.117645Z"
    }
   },
   "outputs": [],
   "source": [
    "transforms = A.Compose([\n",
    "            A.CenterCrop(img_size, img_size, p=1.),\n",
    "            A.Resize(img_size, img_size),\n",
    "            A.Normalize(mean=[0.485, 0.456, 0.406],\n",
    "                        std=[0.229, 0.224, 0.225],\n",
    "                        max_pixel_value=255.0,\n",
    "                        p=1.0),\n",
    "            ToTensorV2(p=1.0),\n",
    "        ],\n",
    "            p=1.)\n"
   ]
  },
  {
   "cell_type": "code",
   "execution_count": 44,
   "metadata": {
    "execution": {
     "iopub.execute_input": "2021-04-13T11:44:52.979949Z",
     "iopub.status.busy": "2021-04-13T11:44:52.979801Z",
     "iopub.status.idle": "2021-04-13T11:44:53.004309Z",
     "shell.execute_reply": "2021-04-13T11:44:53.003829Z",
     "shell.execute_reply.started": "2021-04-13T11:44:52.979933Z"
    }
   },
   "outputs": [],
   "source": [
    "test_img = transforms(image=cv2.imread(\"/media/hdd/Datasets/asl/asl_alphabet_test/asl_alphabet_test/C_test.jpg\"))"
   ]
  },
  {
   "cell_type": "code",
   "execution_count": 45,
   "metadata": {
    "execution": {
     "iopub.execute_input": "2021-04-13T11:44:53.490927Z",
     "iopub.status.busy": "2021-04-13T11:44:53.490477Z",
     "iopub.status.idle": "2021-04-13T11:44:53.531365Z",
     "shell.execute_reply": "2021-04-13T11:44:53.530928Z",
     "shell.execute_reply.started": "2021-04-13T11:44:53.490875Z"
    }
   },
   "outputs": [],
   "source": [
    "y_hat = pre_model(test_img[\"image\"].unsqueeze(0).to(\"cuda\"))"
   ]
  },
  {
   "cell_type": "code",
   "execution_count": 46,
   "metadata": {
    "execution": {
     "iopub.execute_input": "2021-04-13T11:44:53.853802Z",
     "iopub.status.busy": "2021-04-13T11:44:53.853346Z",
     "iopub.status.idle": "2021-04-13T11:44:53.861461Z",
     "shell.execute_reply": "2021-04-13T11:44:53.859924Z",
     "shell.execute_reply.started": "2021-04-13T11:44:53.853749Z"
    }
   },
   "outputs": [
    {
     "data": {
      "text/plain": [
       "{0: 'M', 1: 'S', 2: 'V'}"
      ]
     },
     "execution_count": 46,
     "metadata": {},
     "output_type": "execute_result"
    }
   ],
   "source": [
    "label_map"
   ]
  },
  {
   "cell_type": "code",
   "execution_count": 57,
   "metadata": {},
   "outputs": [
    {
     "data": {
      "text/plain": [
       "'C'"
      ]
     },
     "execution_count": 57,
     "metadata": {},
     "output_type": "execute_result"
    }
   ],
   "source": [
    "label_map[int(torch.argmax(y_hat, dim = 1))]"
   ]
  },
  {
   "cell_type": "code",
   "execution_count": null,
   "metadata": {},
   "outputs": [],
   "source": []
  },
  {
   "cell_type": "code",
   "execution_count": null,
   "metadata": {},
   "outputs": [],
   "source": []
  },
  {
   "cell_type": "code",
   "execution_count": null,
   "metadata": {},
   "outputs": [],
   "source": []
  },
  {
   "cell_type": "code",
   "execution_count": null,
   "metadata": {},
   "outputs": [],
   "source": []
  },
  {
   "cell_type": "code",
   "execution_count": null,
   "metadata": {},
   "outputs": [],
   "source": []
  },
  {
   "cell_type": "code",
   "execution_count": null,
   "metadata": {},
   "outputs": [],
   "source": []
  },
  {
   "cell_type": "code",
   "execution_count": null,
   "metadata": {},
   "outputs": [],
   "source": []
  },
  {
   "cell_type": "code",
   "execution_count": null,
   "metadata": {},
   "outputs": [],
   "source": []
  }
 ],
 "metadata": {
  "kernelspec": {
   "display_name": "Python 3",
   "language": "python",
   "name": "python3"
  },
  "language_info": {
   "codemirror_mode": {
    "name": "ipython",
    "version": 3
   },
   "file_extension": ".py",
   "mimetype": "text/x-python",
   "name": "python",
   "nbconvert_exporter": "python",
   "pygments_lexer": "ipython3",
   "version": "3.9.1"
  },
  "toc": {
   "base_numbering": 1,
   "nav_menu": {},
   "number_sections": true,
   "sideBar": true,
   "skip_h1_title": false,
   "title_cell": "Table of Contents",
   "title_sidebar": "Contents",
   "toc_cell": false,
   "toc_position": {},
   "toc_section_display": true,
   "toc_window_display": false
  },
  "varInspector": {
   "cols": {
    "lenName": 16,
    "lenType": 16,
    "lenVar": 40
   },
   "kernels_config": {
    "python": {
     "delete_cmd_postfix": "",
     "delete_cmd_prefix": "del ",
     "library": "var_list.py",
     "varRefreshCmd": "print(var_dic_list())"
    },
    "r": {
     "delete_cmd_postfix": ") ",
     "delete_cmd_prefix": "rm(",
     "library": "var_list.r",
     "varRefreshCmd": "cat(var_dic_list()) "
    }
   },
   "types_to_exclude": [
    "module",
    "function",
    "builtin_function_or_method",
    "instance",
    "_Feature"
   ],
   "window_display": false
  }
 },
 "nbformat": 4,
 "nbformat_minor": 4
}
