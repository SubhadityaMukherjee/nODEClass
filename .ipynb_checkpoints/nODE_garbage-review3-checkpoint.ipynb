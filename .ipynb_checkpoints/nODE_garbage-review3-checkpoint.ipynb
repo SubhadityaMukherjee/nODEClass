{
 "cells": [
  {
   "cell_type": "code",
   "execution_count": 1,
   "metadata": {
    "ExecuteTime": {
     "end_time": "2021-01-20T13:09:42.093682Z",
     "start_time": "2021-01-20T13:09:42.090482Z"
    },
    "execution": {
     "iopub.execute_input": "2021-05-27T09:42:43.718672Z",
     "iopub.status.busy": "2021-05-27T09:42:43.718051Z",
     "iopub.status.idle": "2021-05-27T09:42:45.760227Z",
     "shell.execute_reply": "2021-05-27T09:42:45.759791Z",
     "shell.execute_reply.started": "2021-05-27T09:42:43.718509Z"
    },
    "run_control": {
     "marked": false
    }
   },
   "outputs": [],
   "source": [
    "import matplotlib.pyplot as plt\n",
    "import pandas as pd\n",
    "import os\n",
    "import glob\n",
    "import cv2\n",
    "import json\n",
    "from collections import Counter\n",
    "import pickle\n",
    "import numpy as np\n",
    "\n",
    "from efficientnet_pytorch import EfficientNet\n",
    "\n",
    "import torch.optim as optim\n",
    "import torch\n",
    "from torch import nn\n",
    "from torch.utils.data import DataLoader, random_split\n",
    "from torch.nn import functional as F\n",
    "from torch.utils.data import Dataset, TensorDataset, DataLoader\n",
    "from torch.utils.tensorboard import SummaryWriter\n",
    "\n",
    "import torchvision\n",
    "from torchvision.datasets import ImageFolder\n",
    "from torchvision import datasets, transforms\n",
    "from torchdiffeq import odeint\n",
    "\n",
    "import pytorch_lightning as pl\n",
    "from pytorch_lightning import Trainer\n",
    "from pytorch_lightning.loggers import CSVLogger, TensorBoardLogger\n",
    "from pytorch_lightning.metrics.functional import accuracy\n",
    "from pytorch_lightning.callbacks.early_stopping import EarlyStopping\n",
    "\n",
    "import albumentations as A\n",
    "from albumentations.core.composition import Compose\n",
    "from albumentations.pytorch import ToTensorV2\n",
    "\n",
    "from sklearn import metrics, model_selection,preprocessing\n",
    "from sklearn.model_selection import StratifiedKFold\n",
    "from sklearn.metrics import confusion_matrix\n",
    "\n",
    "\n",
    "import optuna\n",
    "from optuna.integration import PyTorchLightningPruningCallback\n",
    "os.environ[\"TORCH_HOME\"] = \"/media/hdd/Datasets/\""
   ]
  },
  {
   "cell_type": "code",
   "execution_count": 2,
   "metadata": {
    "execution": {
     "iopub.execute_input": "2021-05-27T09:42:45.760956Z",
     "iopub.status.busy": "2021-05-27T09:42:45.760829Z",
     "iopub.status.idle": "2021-05-27T09:42:45.765839Z",
     "shell.execute_reply": "2021-05-27T09:42:45.765305Z",
     "shell.execute_reply.started": "2021-05-27T09:42:45.760942Z"
    }
   },
   "outputs": [],
   "source": [
    "import torchsnooper as sn"
   ]
  },
  {
   "cell_type": "markdown",
   "metadata": {},
   "source": [
    "# Look at data \n",
    "- Create a csv for easy loading"
   ]
  },
  {
   "cell_type": "code",
   "execution_count": 3,
   "metadata": {
    "execution": {
     "iopub.execute_input": "2021-05-27T09:42:59.555829Z",
     "iopub.status.busy": "2021-05-27T09:42:59.555683Z",
     "iopub.status.idle": "2021-05-27T09:42:59.558323Z",
     "shell.execute_reply": "2021-05-27T09:42:59.557703Z",
     "shell.execute_reply.started": "2021-05-27T09:42:59.555814Z"
    }
   },
   "outputs": [],
   "source": [
    "main_path = \"/media/hdd/Datasets/garbage/garbage_classification/\""
   ]
  },
  {
   "cell_type": "code",
   "execution_count": 4,
   "metadata": {
    "execution": {
     "iopub.execute_input": "2021-05-27T09:43:00.883559Z",
     "iopub.status.busy": "2021-05-27T09:43:00.883162Z",
     "iopub.status.idle": "2021-05-27T09:43:00.924560Z",
     "shell.execute_reply": "2021-05-27T09:43:00.923744Z",
     "shell.execute_reply.started": "2021-05-27T09:43:00.883513Z"
    }
   },
   "outputs": [
    {
     "data": {
      "text/plain": [
       "'/media/hdd/Datasets/garbage/garbage_classification/shoes/shoes87.jpg'"
      ]
     },
     "execution_count": 4,
     "metadata": {},
     "output_type": "execute_result"
    }
   ],
   "source": [
    "all_ims = glob.glob(main_path+\"/*/*.jpg\");all_ims[0]"
   ]
  },
  {
   "cell_type": "code",
   "execution_count": 5,
   "metadata": {
    "execution": {
     "iopub.execute_input": "2021-05-27T09:43:02.764848Z",
     "iopub.status.busy": "2021-05-27T09:43:02.764353Z",
     "iopub.status.idle": "2021-05-27T09:43:02.771735Z",
     "shell.execute_reply": "2021-05-27T09:43:02.770604Z",
     "shell.execute_reply.started": "2021-05-27T09:43:02.764789Z"
    }
   },
   "outputs": [
    {
     "data": {
      "text/plain": [
       "15515"
      ]
     },
     "execution_count": 5,
     "metadata": {},
     "output_type": "execute_result"
    }
   ],
   "source": [
    "len(all_ims)"
   ]
  },
  {
   "cell_type": "code",
   "execution_count": 6,
   "metadata": {
    "execution": {
     "iopub.execute_input": "2021-05-27T09:43:03.691269Z",
     "iopub.status.busy": "2021-05-27T09:43:03.690949Z",
     "iopub.status.idle": "2021-05-27T09:43:03.696548Z",
     "shell.execute_reply": "2021-05-27T09:43:03.695154Z",
     "shell.execute_reply.started": "2021-05-27T09:43:03.691232Z"
    }
   },
   "outputs": [],
   "source": [
    "def create_label(x):\n",
    "    return x.split(\"/\")[-2]"
   ]
  },
  {
   "cell_type": "code",
   "execution_count": 7,
   "metadata": {
    "execution": {
     "iopub.execute_input": "2021-05-27T09:43:04.200734Z",
     "iopub.status.busy": "2021-05-27T09:43:04.200200Z",
     "iopub.status.idle": "2021-05-27T09:43:04.220089Z",
     "shell.execute_reply": "2021-05-27T09:43:04.214509Z",
     "shell.execute_reply.started": "2021-05-27T09:43:04.200673Z"
    }
   },
   "outputs": [],
   "source": [
    "df = pd.DataFrame.from_dict({x:create_label(x) for x in all_ims} ,orient='index').reset_index()\n",
    "df.columns = [\"image_id\",\"label\"]"
   ]
  },
  {
   "cell_type": "code",
   "execution_count": 8,
   "metadata": {
    "execution": {
     "iopub.execute_input": "2021-05-27T09:43:04.576782Z",
     "iopub.status.busy": "2021-05-27T09:43:04.576646Z",
     "iopub.status.idle": "2021-05-27T09:43:04.584602Z",
     "shell.execute_reply": "2021-05-27T09:43:04.584090Z",
     "shell.execute_reply.started": "2021-05-27T09:43:04.576768Z"
    },
    "scrolled": true
   },
   "outputs": [
    {
     "data": {
      "text/html": [
       "<div>\n",
       "<style scoped>\n",
       "    .dataframe tbody tr th:only-of-type {\n",
       "        vertical-align: middle;\n",
       "    }\n",
       "\n",
       "    .dataframe tbody tr th {\n",
       "        vertical-align: top;\n",
       "    }\n",
       "\n",
       "    .dataframe thead th {\n",
       "        text-align: right;\n",
       "    }\n",
       "</style>\n",
       "<table border=\"1\" class=\"dataframe\">\n",
       "  <thead>\n",
       "    <tr style=\"text-align: right;\">\n",
       "      <th></th>\n",
       "      <th>image_id</th>\n",
       "      <th>label</th>\n",
       "    </tr>\n",
       "  </thead>\n",
       "  <tbody>\n",
       "    <tr>\n",
       "      <th>0</th>\n",
       "      <td>/media/hdd/Datasets/garbage/garbage_classifica...</td>\n",
       "      <td>shoes</td>\n",
       "    </tr>\n",
       "    <tr>\n",
       "      <th>1</th>\n",
       "      <td>/media/hdd/Datasets/garbage/garbage_classifica...</td>\n",
       "      <td>shoes</td>\n",
       "    </tr>\n",
       "    <tr>\n",
       "      <th>2</th>\n",
       "      <td>/media/hdd/Datasets/garbage/garbage_classifica...</td>\n",
       "      <td>shoes</td>\n",
       "    </tr>\n",
       "    <tr>\n",
       "      <th>3</th>\n",
       "      <td>/media/hdd/Datasets/garbage/garbage_classifica...</td>\n",
       "      <td>shoes</td>\n",
       "    </tr>\n",
       "    <tr>\n",
       "      <th>4</th>\n",
       "      <td>/media/hdd/Datasets/garbage/garbage_classifica...</td>\n",
       "      <td>shoes</td>\n",
       "    </tr>\n",
       "  </tbody>\n",
       "</table>\n",
       "</div>"
      ],
      "text/plain": [
       "                                            image_id  label\n",
       "0  /media/hdd/Datasets/garbage/garbage_classifica...  shoes\n",
       "1  /media/hdd/Datasets/garbage/garbage_classifica...  shoes\n",
       "2  /media/hdd/Datasets/garbage/garbage_classifica...  shoes\n",
       "3  /media/hdd/Datasets/garbage/garbage_classifica...  shoes\n",
       "4  /media/hdd/Datasets/garbage/garbage_classifica...  shoes"
      ]
     },
     "execution_count": 8,
     "metadata": {},
     "output_type": "execute_result"
    }
   ],
   "source": [
    "df.head()"
   ]
  },
  {
   "cell_type": "code",
   "execution_count": 9,
   "metadata": {
    "execution": {
     "iopub.execute_input": "2021-05-27T09:43:05.955627Z",
     "iopub.status.busy": "2021-05-27T09:43:05.955093Z",
     "iopub.status.idle": "2021-05-27T09:43:05.962857Z",
     "shell.execute_reply": "2021-05-27T09:43:05.960607Z",
     "shell.execute_reply.started": "2021-05-27T09:43:05.955564Z"
    }
   },
   "outputs": [],
   "source": [
    "df_b = df"
   ]
  },
  {
   "cell_type": "code",
   "execution_count": 10,
   "metadata": {
    "execution": {
     "iopub.execute_input": "2021-05-27T09:43:06.314966Z",
     "iopub.status.busy": "2021-05-27T09:43:06.314423Z",
     "iopub.status.idle": "2021-05-27T09:43:06.321884Z",
     "shell.execute_reply": "2021-05-27T09:43:06.321408Z",
     "shell.execute_reply.started": "2021-05-27T09:43:06.314901Z"
    }
   },
   "outputs": [
    {
     "data": {
      "text/plain": [
       "array(['shoes', 'cardboard', 'metal', 'battery', 'plastic', 'paper',\n",
       "       'white-glass', 'clothes', 'trash', 'biological', 'brown-glass',\n",
       "       'green-glass'], dtype=object)"
      ]
     },
     "execution_count": 10,
     "metadata": {},
     "output_type": "execute_result"
    }
   ],
   "source": [
    "df.label.unique()"
   ]
  },
  {
   "cell_type": "code",
   "execution_count": 11,
   "metadata": {
    "execution": {
     "iopub.execute_input": "2021-05-27T09:43:07.594644Z",
     "iopub.status.busy": "2021-05-27T09:43:07.594111Z",
     "iopub.status.idle": "2021-05-27T09:43:07.601872Z",
     "shell.execute_reply": "2021-05-27T09:43:07.601266Z",
     "shell.execute_reply.started": "2021-05-27T09:43:07.594581Z"
    }
   },
   "outputs": [
    {
     "data": {
      "text/plain": [
       "12"
      ]
     },
     "execution_count": 11,
     "metadata": {},
     "output_type": "execute_result"
    }
   ],
   "source": [
    "df.label.nunique()"
   ]
  },
  {
   "cell_type": "code",
   "execution_count": 12,
   "metadata": {
    "execution": {
     "iopub.execute_input": "2021-05-27T09:43:08.369897Z",
     "iopub.status.busy": "2021-05-27T09:43:08.369649Z",
     "iopub.status.idle": "2021-05-27T09:43:08.375556Z",
     "shell.execute_reply": "2021-05-27T09:43:08.375159Z",
     "shell.execute_reply.started": "2021-05-27T09:43:08.369869Z"
    }
   },
   "outputs": [],
   "source": [
    "temp = preprocessing.LabelEncoder()\n",
    "df['label'] = temp.fit_transform(df.label.values)"
   ]
  },
  {
   "cell_type": "code",
   "execution_count": 13,
   "metadata": {
    "execution": {
     "iopub.execute_input": "2021-05-27T09:43:08.680214Z",
     "iopub.status.busy": "2021-05-27T09:43:08.679659Z",
     "iopub.status.idle": "2021-05-27T09:43:08.685630Z",
     "shell.execute_reply": "2021-05-27T09:43:08.685098Z",
     "shell.execute_reply.started": "2021-05-27T09:43:08.680150Z"
    }
   },
   "outputs": [],
   "source": [
    "label_map=  {i: l for i, l in enumerate(temp.classes_)}"
   ]
  },
  {
   "cell_type": "code",
   "execution_count": 14,
   "metadata": {
    "execution": {
     "iopub.execute_input": "2021-05-27T09:43:09.301742Z",
     "iopub.status.busy": "2021-05-27T09:43:09.301607Z",
     "iopub.status.idle": "2021-05-27T09:43:09.304815Z",
     "shell.execute_reply": "2021-05-27T09:43:09.304506Z",
     "shell.execute_reply.started": "2021-05-27T09:43:09.301728Z"
    }
   },
   "outputs": [
    {
     "data": {
      "text/plain": [
       "12"
      ]
     },
     "execution_count": 14,
     "metadata": {},
     "output_type": "execute_result"
    }
   ],
   "source": [
    "df.label.nunique()"
   ]
  },
  {
   "cell_type": "code",
   "execution_count": 15,
   "metadata": {
    "execution": {
     "iopub.execute_input": "2021-05-27T09:43:09.499305Z",
     "iopub.status.busy": "2021-05-27T09:43:09.499049Z",
     "iopub.status.idle": "2021-05-27T09:43:09.505449Z",
     "shell.execute_reply": "2021-05-27T09:43:09.504790Z",
     "shell.execute_reply.started": "2021-05-27T09:43:09.499277Z"
    },
    "scrolled": true
   },
   "outputs": [
    {
     "data": {
      "text/plain": [
       "4     5325\n",
       "9     1977\n",
       "7     1050\n",
       "1      985\n",
       "0      945\n",
       "3      891\n",
       "8      865\n",
       "11     775\n",
       "6      769\n",
       "10     697\n",
       "5      629\n",
       "2      607\n",
       "Name: label, dtype: int64"
      ]
     },
     "execution_count": 15,
     "metadata": {},
     "output_type": "execute_result"
    }
   ],
   "source": [
    "df.label.value_counts()"
   ]
  },
  {
   "cell_type": "code",
   "execution_count": 16,
   "metadata": {
    "execution": {
     "iopub.execute_input": "2021-05-27T09:43:09.920155Z",
     "iopub.status.busy": "2021-05-27T09:43:09.919573Z",
     "iopub.status.idle": "2021-05-27T09:43:10.103700Z",
     "shell.execute_reply": "2021-05-27T09:43:10.103266Z",
     "shell.execute_reply.started": "2021-05-27T09:43:09.920088Z"
    }
   },
   "outputs": [],
   "source": [
    "df[\"kfold\"] = -1\n",
    "df = df.sample(frac=1).reset_index(drop=True)\n",
    "stratify = StratifiedKFold(n_splits=5)\n",
    "for i, (t_idx, v_idx) in enumerate(\n",
    "        stratify.split(X=df.image_id.values, y=df.label.values)):\n",
    "    df.loc[v_idx, \"kfold\"] = i\n",
    "    df.to_csv(\"train_folds_fruits.csv\", index=False)"
   ]
  },
  {
   "cell_type": "code",
   "execution_count": 17,
   "metadata": {
    "execution": {
     "iopub.execute_input": "2021-05-27T09:43:10.736265Z",
     "iopub.status.busy": "2021-05-27T09:43:10.736021Z",
     "iopub.status.idle": "2021-05-27T09:43:10.754401Z",
     "shell.execute_reply": "2021-05-27T09:43:10.753799Z",
     "shell.execute_reply.started": "2021-05-27T09:43:10.736245Z"
    }
   },
   "outputs": [
    {
     "data": {
      "text/html": [
       "<div>\n",
       "<style scoped>\n",
       "    .dataframe tbody tr th:only-of-type {\n",
       "        vertical-align: middle;\n",
       "    }\n",
       "\n",
       "    .dataframe tbody tr th {\n",
       "        vertical-align: top;\n",
       "    }\n",
       "\n",
       "    .dataframe thead th {\n",
       "        text-align: right;\n",
       "    }\n",
       "</style>\n",
       "<table border=\"1\" class=\"dataframe\">\n",
       "  <thead>\n",
       "    <tr style=\"text-align: right;\">\n",
       "      <th></th>\n",
       "      <th>image_id</th>\n",
       "      <th>label</th>\n",
       "      <th>kfold</th>\n",
       "    </tr>\n",
       "  </thead>\n",
       "  <tbody>\n",
       "    <tr>\n",
       "      <th>0</th>\n",
       "      <td>/media/hdd/Datasets/garbage/garbage_classifica...</td>\n",
       "      <td>4</td>\n",
       "      <td>0</td>\n",
       "    </tr>\n",
       "  </tbody>\n",
       "</table>\n",
       "</div>"
      ],
      "text/plain": [
       "                                            image_id  label  kfold\n",
       "0  /media/hdd/Datasets/garbage/garbage_classifica...      4      0"
      ]
     },
     "execution_count": 17,
     "metadata": {},
     "output_type": "execute_result"
    }
   ],
   "source": [
    "pd.read_csv(\"train_folds_fruits.csv\").head(1)"
   ]
  },
  {
   "cell_type": "markdown",
   "metadata": {},
   "source": [
    "# Architecture"
   ]
  },
  {
   "cell_type": "code",
   "execution_count": 18,
   "metadata": {
    "execution": {
     "iopub.execute_input": "2021-05-27T09:43:11.534586Z",
     "iopub.status.busy": "2021-05-27T09:43:11.534040Z",
     "iopub.status.idle": "2021-05-27T09:43:11.539647Z",
     "shell.execute_reply": "2021-05-27T09:43:11.539130Z",
     "shell.execute_reply.started": "2021-05-27T09:43:11.534523Z"
    }
   },
   "outputs": [],
   "source": [
    "def conv3x3(in_planes, out_planes, stride=1):\n",
    "    return nn.Conv2d(in_planes, out_planes, kernel_size=3, stride=stride, padding=1, bias=False)"
   ]
  },
  {
   "cell_type": "code",
   "execution_count": 19,
   "metadata": {
    "execution": {
     "iopub.execute_input": "2021-05-27T09:43:11.750843Z",
     "iopub.status.busy": "2021-05-27T09:43:11.750304Z",
     "iopub.status.idle": "2021-05-27T09:43:11.759007Z",
     "shell.execute_reply": "2021-05-27T09:43:11.756922Z",
     "shell.execute_reply.started": "2021-05-27T09:43:11.750781Z"
    }
   },
   "outputs": [],
   "source": [
    "def conv1x1(in_planes, out_planes, stride=1):\n",
    "    return nn.Conv2d(in_planes, out_planes, kernel_size=1, stride=stride, bias=False)"
   ]
  },
  {
   "cell_type": "code",
   "execution_count": 20,
   "metadata": {
    "execution": {
     "iopub.execute_input": "2021-05-27T09:43:11.942856Z",
     "iopub.status.busy": "2021-05-27T09:43:11.942317Z",
     "iopub.status.idle": "2021-05-27T09:43:11.950662Z",
     "shell.execute_reply": "2021-05-27T09:43:11.948419Z",
     "shell.execute_reply.started": "2021-05-27T09:43:11.942793Z"
    }
   },
   "outputs": [],
   "source": [
    "def norm(dim):\n",
    "    return nn.GroupNorm(min(32, dim), dim)"
   ]
  },
  {
   "cell_type": "code",
   "execution_count": 21,
   "metadata": {
    "execution": {
     "iopub.execute_input": "2021-05-27T09:43:12.128447Z",
     "iopub.status.busy": "2021-05-27T09:43:12.127899Z",
     "iopub.status.idle": "2021-05-27T09:43:12.143371Z",
     "shell.execute_reply": "2021-05-27T09:43:12.141639Z",
     "shell.execute_reply.started": "2021-05-27T09:43:12.128383Z"
    }
   },
   "outputs": [],
   "source": [
    "class ResBlock(nn.Module):\n",
    "    expansion = 1\n",
    "\n",
    "    def __init__(self, inplanes, planes, stride=1, downsample=None):\n",
    "        super(ResBlock, self).__init__()\n",
    "        self.norm1 = norm(inplanes)\n",
    "        self.relu = nn.ReLU(inplace=True)\n",
    "        self.downsample = downsample\n",
    "        self.conv1 = conv3x3(inplanes, planes, stride)\n",
    "        self.norm2 = norm(planes)\n",
    "        self.conv2 = conv3x3(planes, planes)\n",
    "\n",
    "    def forward(self, x):\n",
    "        shortcut = x\n",
    "\n",
    "        out = self.relu(self.norm1(x))\n",
    "\n",
    "        if self.downsample is not None:\n",
    "            shortcut = self.downsample(out)\n",
    "\n",
    "        out = self.conv1(out)\n",
    "        out = self.norm2(out)\n",
    "        out = self.relu(out)\n",
    "        out = self.conv2(out)\n",
    "\n",
    "        return out + shortcut"
   ]
  },
  {
   "cell_type": "code",
   "execution_count": 22,
   "metadata": {
    "execution": {
     "iopub.execute_input": "2021-05-27T09:43:12.652226Z",
     "iopub.status.busy": "2021-05-27T09:43:12.652051Z",
     "iopub.status.idle": "2021-05-27T09:43:12.655858Z",
     "shell.execute_reply": "2021-05-27T09:43:12.655427Z",
     "shell.execute_reply.started": "2021-05-27T09:43:12.652194Z"
    }
   },
   "outputs": [],
   "source": [
    "class ConcatConv2d(nn.Module):\n",
    "\n",
    "    def __init__(self, dim_in, dim_out, ksize=3, stride=1, padding=0, dilation=1, groups=1, bias=True, transpose=False):\n",
    "        super(ConcatConv2d, self).__init__()\n",
    "        module = nn.ConvTranspose2d if transpose else nn.Conv2d\n",
    "        self._layer = module(\n",
    "            dim_in + 1, dim_out, kernel_size=ksize, stride=stride, padding=padding, dilation=dilation, groups=groups,\n",
    "            bias=bias\n",
    "        )\n",
    "\n",
    "    def forward(self, t, x):\n",
    "        tt = torch.ones_like(x[:, :1, :, :]) * t\n",
    "        ttx = torch.cat([tt, x], 1)\n",
    "        return self._layer(ttx)"
   ]
  },
  {
   "cell_type": "code",
   "execution_count": 23,
   "metadata": {
    "execution": {
     "iopub.execute_input": "2021-05-27T09:43:12.822935Z",
     "iopub.status.busy": "2021-05-27T09:43:12.822395Z",
     "iopub.status.idle": "2021-05-27T09:43:12.837323Z",
     "shell.execute_reply": "2021-05-27T09:43:12.835200Z",
     "shell.execute_reply.started": "2021-05-27T09:43:12.822873Z"
    }
   },
   "outputs": [],
   "source": [
    "class ODEfunc(nn.Module):\n",
    "\n",
    "    def __init__(self, dim):\n",
    "        super(ODEfunc, self).__init__()\n",
    "        self.norm1 = norm(dim)\n",
    "        self.relu = nn.ReLU(inplace=True)\n",
    "        self.conv1 = ConcatConv2d(dim, dim, 3, 1, 1)\n",
    "        self.norm2 = norm(dim)\n",
    "        self.conv2 = ConcatConv2d(dim, dim, 3, 1, 1)\n",
    "        self.norm3 = norm(dim)\n",
    "        self.nfe = 0\n",
    "\n",
    "    def forward(self, t, x):\n",
    "        self.nfe += 1\n",
    "        out = self.norm1(x)\n",
    "        out = self.relu(out)\n",
    "        out = self.conv1(t, out)\n",
    "        out = self.norm2(out)\n",
    "        out = self.relu(out)\n",
    "        out = self.conv2(t, out)\n",
    "        out = self.norm3(out)\n",
    "        return out"
   ]
  },
  {
   "cell_type": "code",
   "execution_count": 24,
   "metadata": {
    "execution": {
     "iopub.execute_input": "2021-05-27T09:43:13.007643Z",
     "iopub.status.busy": "2021-05-27T09:43:13.007095Z",
     "iopub.status.idle": "2021-05-27T09:43:13.020499Z",
     "shell.execute_reply": "2021-05-27T09:43:13.018819Z",
     "shell.execute_reply.started": "2021-05-27T09:43:13.007578Z"
    }
   },
   "outputs": [],
   "source": [
    "class ODEBlock(nn.Module):\n",
    "\n",
    "    def __init__(self, odefunc):\n",
    "        super(ODEBlock, self).__init__()\n",
    "        self.odefunc = odefunc\n",
    "        self.integration_time = torch.tensor([0, 1]).float()\n",
    "\n",
    "    def forward(self, oui):\n",
    "        self.integration_time = self.integration_time.type_as(oui)\n",
    "        out = odeint(self.odefunc, oui, self.integration_time, rtol=1e-3, atol=1e-3)\n",
    "        return torch.cuda.FloatTensor(oui)\n",
    "\n",
    "    @property\n",
    "    def nfe(self):\n",
    "        return self.odefunc.nfe\n",
    "\n",
    "    @nfe.setter\n",
    "    def nfe(self, value):\n",
    "        self.odefunc.nfe = value"
   ]
  },
  {
   "cell_type": "code",
   "execution_count": 25,
   "metadata": {
    "execution": {
     "iopub.execute_input": "2021-05-27T09:43:13.237985Z",
     "iopub.status.busy": "2021-05-27T09:43:13.237672Z",
     "iopub.status.idle": "2021-05-27T09:43:13.243313Z",
     "shell.execute_reply": "2021-05-27T09:43:13.242627Z",
     "shell.execute_reply.started": "2021-05-27T09:43:13.237950Z"
    }
   },
   "outputs": [],
   "source": [
    "class Flatten(nn.Module):\n",
    "\n",
    "    def __init__(self):\n",
    "        super(Flatten, self).__init__()\n",
    "\n",
    "    def forward(self, x):\n",
    "        shape = torch.prod(torch.tensor(x.shape[1:])).item()\n",
    "        return x.view(-1, shape)"
   ]
  },
  {
   "cell_type": "markdown",
   "metadata": {},
   "source": [
    "# Create model"
   ]
  },
  {
   "cell_type": "code",
   "execution_count": 26,
   "metadata": {
    "ExecuteTime": {
     "end_time": "2021-01-20T13:11:34.466990Z",
     "start_time": "2021-01-20T13:11:34.459999Z"
    },
    "execution": {
     "iopub.execute_input": "2021-05-27T09:43:13.719452Z",
     "iopub.status.busy": "2021-05-27T09:43:13.718909Z",
     "iopub.status.idle": "2021-05-27T09:43:13.729581Z",
     "shell.execute_reply": "2021-05-27T09:43:13.729220Z",
     "shell.execute_reply.started": "2021-05-27T09:43:13.719388Z"
    }
   },
   "outputs": [],
   "source": [
    "\n",
    "class LitModel(pl.LightningModule):\n",
    "    def __init__(self, num_classes, learning_rate=1e-4, weight_decay=0.0001):\n",
    "        super().__init__()\n",
    "\n",
    "        # log hyperparameters\n",
    "        self.save_hyperparameters()\n",
    "        self.num_classes = num_classes\n",
    "\n",
    "        self.learning_rate = learning_rate\n",
    "        self.weight_decay = weight_decay\n",
    "\n",
    "        self.enet = EfficientNet.from_pretrained('efficientnet-b5',num_classes=self.num_classes)\n",
    "        self.enet._bn1 = nn.Sequential(\n",
    "                ODEBlock(ODEfunc(2048)),\n",
    "                nn.BatchNorm2d(2048, eps=0.001, momentum=0.010000000000000009, affine=True, track_running_stats=True),\n",
    "        )\n",
    "        in_features = self.enet._fc.in_features\n",
    "        self.enet._fc = nn.Linear(in_features, num_classes)\n",
    "\n",
    "#     @sn.snoop()\n",
    "    def forward(self, x):\n",
    "        out = self.enet(torch.cuda.FloatTensor(x))\n",
    "        return out\n",
    "\n",
    "    def configure_optimizers(self):\n",
    "        optimizer = torch.optim.AdamW(self.parameters(),\n",
    "                                      lr=self.learning_rate,\n",
    "                                      weight_decay=self.weight_decay)\n",
    "\n",
    "        scheduler = torch.optim.lr_scheduler.StepLR(optimizer,\n",
    "                                                    step_size=2,\n",
    "                                                    gamma=0.1)\n",
    "\n",
    "        return ([optimizer], [scheduler])\n",
    "\n",
    "\n",
    "\n",
    "    def training_step(self, train_batch, batch_idx):\n",
    "        x, y = train_batch[\"x\"], train_batch[\"y\"]\n",
    "        x =x.type(torch.cuda.FloatTensor)\n",
    "        preds = self(x)\n",
    "        loss = F.cross_entropy(preds, y)\n",
    "        #         loss.requires_grad = True\n",
    "        acc = accuracy(preds, y)\n",
    "        self.log('train_acc_step', acc)\n",
    "        self.log('train_loss', loss)\n",
    "        return loss\n",
    "\n",
    "    def validation_step(self, val_batch, batch_idx):\n",
    "        x, y = val_batch[\"x\"], val_batch[\"y\"]\n",
    "        x =x.type(torch.cuda.FloatTensor)\n",
    "        preds = self(x)\n",
    "        loss = F.cross_entropy(preds, y)\n",
    "        #         loss.requires_grad = True\n",
    "        acc = accuracy(preds, y)\n",
    "        self.log('val_acc_step', acc)\n",
    "        self.log('val_loss', loss)\n",
    "#         print(preds.detach().cpu(), y.detach().cpu())\n",
    "        y2 = torch.argmax(preds, dim = 1)\n",
    "        conf = confusion_matrix(y2.detach().cpu(), y.detach().cpu())\n",
    "        fig = plt.figure()\n",
    "        plt.imshow(conf)\n",
    "#         plt.show()\n",
    "        self.logger.experiment.add_figure(\"Confusion matrix\", fig, self.current_epoch)"
   ]
  },
  {
   "cell_type": "code",
   "execution_count": 27,
   "metadata": {
    "execution": {
     "iopub.execute_input": "2021-05-27T09:43:13.919896Z",
     "iopub.status.busy": "2021-05-27T09:43:13.919353Z",
     "iopub.status.idle": "2021-05-27T09:43:13.934090Z",
     "shell.execute_reply": "2021-05-27T09:43:13.932168Z",
     "shell.execute_reply.started": "2021-05-27T09:43:13.919832Z"
    }
   },
   "outputs": [],
   "source": [
    "class ImageClassDs(Dataset):\n",
    "    def __init__(self,\n",
    "                 df: pd.DataFrame,\n",
    "                 imfolder: str,\n",
    "                 train: bool = True,\n",
    "                 transforms=None):\n",
    "        self.df = df\n",
    "        self.imfolder = imfolder\n",
    "        self.train = train\n",
    "        self.transforms = transforms\n",
    "\n",
    "    def __getitem__(self, index):\n",
    "        im_path = self.df.iloc[index]['image_id']\n",
    "        x = cv2.imread(im_path, cv2.IMREAD_COLOR)\n",
    "        x = cv2.cvtColor(x, cv2.COLOR_BGR2RGB)\n",
    "\n",
    "        if (self.transforms):\n",
    "            x = self.transforms(image=x)['image']\n",
    "\n",
    "        y = self.df.iloc[index]['label']\n",
    "        return {\n",
    "            \"x\": x,\n",
    "            \"y\": y,\n",
    "        }\n",
    "\n",
    "    def __len__(self):\n",
    "        return len(self.df)"
   ]
  },
  {
   "cell_type": "markdown",
   "metadata": {},
   "source": [
    "# Load data"
   ]
  },
  {
   "cell_type": "code",
   "execution_count": 28,
   "metadata": {
    "ExecuteTime": {
     "end_time": "2021-01-20T13:11:57.734304Z",
     "start_time": "2021-01-20T13:11:57.729146Z"
    },
    "execution": {
     "iopub.execute_input": "2021-05-27T09:43:14.416570Z",
     "iopub.status.busy": "2021-05-27T09:43:14.415771Z",
     "iopub.status.idle": "2021-05-27T09:43:14.428946Z",
     "shell.execute_reply": "2021-05-27T09:43:14.428482Z",
     "shell.execute_reply.started": "2021-05-27T09:43:14.416475Z"
    }
   },
   "outputs": [],
   "source": [
    "class ImDataModule(pl.LightningDataModule):\n",
    "    def __init__(\n",
    "            self,\n",
    "            df,\n",
    "            batch_size,\n",
    "            num_classes,\n",
    "            data_dir: str = \"/media/hdd/Datasets/fruits/fruits-360/Training/\",\n",
    "            img_size=(256, 256)):\n",
    "        super().__init__()\n",
    "        self.df = df\n",
    "        self.data_dir = data_dir\n",
    "        self.batch_size = batch_size\n",
    "        self.train_transform = A.Compose([\n",
    "            A.RandomResizedCrop(img_size, img_size, p=1.0),\n",
    "            ToTensorV2(p=1.0),\n",
    "        ],\n",
    "            p=1.)\n",
    "\n",
    "        self.valid_transform = A.Compose([\n",
    "            A.CenterCrop(img_size, img_size, p=1.),\n",
    "            A.Resize(img_size, img_size),\n",
    "            A.Normalize(mean=[0.485, 0.456, 0.406],\n",
    "                        std=[0.229, 0.224, 0.225],\n",
    "                        max_pixel_value=255.0,\n",
    "                        p=1.0),\n",
    "            ToTensorV2(p=1.0),\n",
    "        ],\n",
    "            p=1.)\n",
    "\n",
    "    def setup(self, stage=None):\n",
    "        dfx = pd.read_csv(\"./train_folds.csv\")\n",
    "        train = dfx.loc[dfx[\"kfold\"] != 1]\n",
    "        val = dfx.loc[dfx[\"kfold\"] == 1]\n",
    "\n",
    "        self.train_dataset = ImageClassDs(train,\n",
    "                                          self.data_dir,\n",
    "                                          train=True,\n",
    "                                          transforms=self.train_transform)\n",
    "\n",
    "        self.valid_dataset = ImageClassDs(val,\n",
    "                                          self.data_dir,\n",
    "                                          train=False,\n",
    "                                          transforms=self.valid_transform)\n",
    "\n",
    "    def train_dataloader(self):\n",
    "        return DataLoader(self.train_dataset,\n",
    "                          batch_size=self.batch_size,\n",
    "                          num_workers=12,\n",
    "                          shuffle=True)\n",
    "\n",
    "    def val_dataloader(self):\n",
    "        return DataLoader(self.valid_dataset,\n",
    "                          batch_size=self.batch_size,\n",
    "                          num_workers=12)"
   ]
  },
  {
   "cell_type": "code",
   "execution_count": 29,
   "metadata": {
    "execution": {
     "iopub.execute_input": "2021-05-27T09:43:14.959831Z",
     "iopub.status.busy": "2021-05-27T09:43:14.959048Z",
     "iopub.status.idle": "2021-05-27T09:43:14.968359Z",
     "shell.execute_reply": "2021-05-27T09:43:14.966116Z",
     "shell.execute_reply.started": "2021-05-27T09:43:14.959733Z"
    }
   },
   "outputs": [],
   "source": [
    "batch_size = 128\n",
    "num_classes = 131\n",
    "img_size = 64"
   ]
  },
  {
   "cell_type": "code",
   "execution_count": 31,
   "metadata": {
    "ExecuteTime": {
     "end_time": "2021-01-20T13:11:58.135972Z",
     "start_time": "2021-01-20T13:11:58.131286Z"
    },
    "execution": {
     "iopub.execute_input": "2021-05-27T09:43:18.839205Z",
     "iopub.status.busy": "2021-05-27T09:43:18.838668Z",
     "iopub.status.idle": "2021-05-27T09:43:18.900956Z",
     "shell.execute_reply": "2021-05-27T09:43:18.900510Z",
     "shell.execute_reply.started": "2021-05-27T09:43:18.839143Z"
    }
   },
   "outputs": [],
   "source": [
    "dm = ImDataModule(df,\n",
    "                  batch_size=batch_size,\n",
    "                  num_classes=num_classes,\n",
    "                  img_size=img_size)\n",
    "class_ids = dm.setup()"
   ]
  },
  {
   "cell_type": "markdown",
   "metadata": {},
   "source": [
    "# Final model"
   ]
  },
  {
   "cell_type": "code",
   "execution_count": 32,
   "metadata": {
    "ExecuteTime": {
     "end_time": "2021-01-20T13:12:04.659921Z",
     "start_time": "2021-01-20T13:12:04.444379Z"
    },
    "execution": {
     "iopub.execute_input": "2021-05-27T09:43:19.183210Z",
     "iopub.status.busy": "2021-05-27T09:43:19.182901Z",
     "iopub.status.idle": "2021-05-27T09:43:19.848853Z",
     "shell.execute_reply": "2021-05-27T09:43:19.848499Z",
     "shell.execute_reply.started": "2021-05-27T09:43:19.183176Z"
    }
   },
   "outputs": [
    {
     "name": "stdout",
     "output_type": "stream",
     "text": [
      "Loaded pretrained weights for efficientnet-b5\n"
     ]
    }
   ],
   "source": [
    "model = LitModel(num_classes);"
   ]
  },
  {
   "cell_type": "code",
   "execution_count": 34,
   "metadata": {
    "execution": {
     "iopub.execute_input": "2021-05-27T09:43:27.778491Z",
     "iopub.status.busy": "2021-05-27T09:43:27.778342Z",
     "iopub.status.idle": "2021-05-27T09:43:27.780545Z",
     "shell.execute_reply": "2021-05-27T09:43:27.780167Z",
     "shell.execute_reply.started": "2021-05-27T09:43:27.778474Z"
    }
   },
   "outputs": [],
   "source": [
    "logger = TensorBoardLogger(\"logs/\", name = \"garbage\")"
   ]
  },
  {
   "cell_type": "code",
   "execution_count": 35,
   "metadata": {
    "ExecuteTime": {
     "end_time": "2021-01-20T13:12:17.444559Z",
     "start_time": "2021-01-20T13:12:17.434634Z"
    },
    "execution": {
     "iopub.execute_input": "2021-05-27T09:43:28.565016Z",
     "iopub.status.busy": "2021-05-27T09:43:28.564878Z",
     "iopub.status.idle": "2021-05-27T09:43:30.403023Z",
     "shell.execute_reply": "2021-05-27T09:43:30.402532Z",
     "shell.execute_reply.started": "2021-05-27T09:43:28.565001Z"
    }
   },
   "outputs": [
    {
     "name": "stderr",
     "output_type": "stream",
     "text": [
      "GPU available: True, used: True\n",
      "TPU available: None, using: 0 TPU cores\n",
      "LOCAL_RANK: 0 - CUDA_VISIBLE_DEVICES: [0]\n"
     ]
    }
   ],
   "source": [
    "trainer = pl.Trainer(auto_select_gpus=True,\n",
    "                     gpus=1,\n",
    "#                      precision=16,\n",
    "                     profiler=False,\n",
    "                     max_epochs=2,\n",
    "                     callbacks=[pl.callbacks.ProgressBar()],\n",
    "                     logger=logger)"
   ]
  },
  {
   "cell_type": "code",
   "execution_count": 36,
   "metadata": {
    "ExecuteTime": {
     "end_time": "2021-01-20T13:14:35.107768Z",
     "start_time": "2021-01-20T13:12:18.236980Z"
    },
    "execution": {
     "iopub.execute_input": "2021-05-27T09:43:31.140036Z",
     "iopub.status.busy": "2021-05-27T09:43:31.139472Z",
     "iopub.status.idle": "2021-05-27T09:57:34.749081Z",
     "shell.execute_reply": "2021-05-27T09:57:34.748572Z",
     "shell.execute_reply.started": "2021-05-27T09:43:31.139947Z"
    }
   },
   "outputs": [
    {
     "name": "stderr",
     "output_type": "stream",
     "text": [
      "\n",
      "  | Name | Type         | Params\n",
      "--------------------------------------\n",
      "0 | enet | EfficientNet | 104 M \n",
      "--------------------------------------\n",
      "104 M     Trainable params\n",
      "0         Non-trainable params\n",
      "104 M     Total params\n"
     ]
    },
    {
     "data": {
      "application/vnd.jupyter.widget-view+json": {
       "model_id": "",
       "version_major": 2,
       "version_minor": 0
      },
      "text/plain": [
       "Validation sanity check: 0it [00:00, ?it/s]"
      ]
     },
     "metadata": {},
     "output_type": "display_data"
    },
    {
     "data": {
      "application/vnd.jupyter.widget-view+json": {
       "model_id": "6f7ef69cc2f44397b0205d8a6198306a",
       "version_major": 2,
       "version_minor": 0
      },
      "text/plain": [
       "Training: 0it [00:00, ?it/s]"
      ]
     },
     "metadata": {},
     "output_type": "display_data"
    },
    {
     "data": {
      "application/vnd.jupyter.widget-view+json": {
       "model_id": "",
       "version_major": 2,
       "version_minor": 0
      },
      "text/plain": [
       "Validating: 0it [00:00, ?it/s]"
      ]
     },
     "metadata": {},
     "output_type": "display_data"
    },
    {
     "data": {
      "application/vnd.jupyter.widget-view+json": {
       "model_id": "",
       "version_major": 2,
       "version_minor": 0
      },
      "text/plain": [
       "Validating: 0it [00:00, ?it/s]"
      ]
     },
     "metadata": {},
     "output_type": "display_data"
    },
    {
     "data": {
      "text/plain": [
       "1"
      ]
     },
     "execution_count": 36,
     "metadata": {},
     "output_type": "execute_result"
    }
   ],
   "source": [
    "trainer.fit(model, dm)"
   ]
  },
  {
   "cell_type": "code",
   "execution_count": 84,
   "metadata": {
    "ExecuteTime": {
     "end_time": "2021-01-20T13:31:51.888107Z",
     "start_time": "2021-01-20T13:31:51.859261Z"
    },
    "execution": {
     "iopub.execute_input": "2021-05-27T09:41:48.953512Z",
     "iopub.status.busy": "2021-05-27T09:41:48.953368Z",
     "iopub.status.idle": "2021-05-27T09:42:00.387937Z",
     "shell.execute_reply": "2021-05-27T09:42:00.387476Z",
     "shell.execute_reply.started": "2021-05-27T09:41:48.953495Z"
    }
   },
   "outputs": [
    {
     "data": {
      "text/plain": [
       "1"
      ]
     },
     "execution_count": 84,
     "metadata": {},
     "output_type": "execute_result"
    }
   ],
   "source": [
    "trainer.test()"
   ]
  },
  {
   "cell_type": "code",
   "execution_count": 85,
   "metadata": {
    "ExecuteTime": {
     "end_time": "2021-01-20T13:31:51.888107Z",
     "start_time": "2021-01-20T13:31:51.859261Z"
    },
    "execution": {
     "iopub.execute_input": "2021-05-27T09:42:00.389085Z",
     "iopub.status.busy": "2021-05-27T09:42:00.388878Z",
     "iopub.status.idle": "2021-05-27T09:42:01.726843Z",
     "shell.execute_reply": "2021-05-27T09:42:01.726411Z",
     "shell.execute_reply.started": "2021-05-27T09:42:00.389054Z"
    }
   },
   "outputs": [],
   "source": [
    "trainer.save_checkpoint('model1_fruits.ckpt')"
   ]
  },
  {
   "cell_type": "code",
   "execution_count": null,
   "metadata": {},
   "outputs": [],
   "source": []
  },
  {
   "cell_type": "code",
   "execution_count": null,
   "metadata": {},
   "outputs": [],
   "source": []
  },
  {
   "cell_type": "code",
   "execution_count": null,
   "metadata": {},
   "outputs": [],
   "source": []
  },
  {
   "cell_type": "code",
   "execution_count": null,
   "metadata": {},
   "outputs": [],
   "source": []
  },
  {
   "cell_type": "code",
   "execution_count": null,
   "metadata": {},
   "outputs": [],
   "source": []
  },
  {
   "cell_type": "code",
   "execution_count": null,
   "metadata": {},
   "outputs": [],
   "source": []
  },
  {
   "cell_type": "code",
   "execution_count": null,
   "metadata": {},
   "outputs": [],
   "source": []
  },
  {
   "cell_type": "code",
   "execution_count": null,
   "metadata": {},
   "outputs": [],
   "source": []
  }
 ],
 "metadata": {
  "kernelspec": {
   "display_name": "Python 3",
   "language": "python",
   "name": "python3"
  },
  "language_info": {
   "codemirror_mode": {
    "name": "ipython",
    "version": 3
   },
   "file_extension": ".py",
   "mimetype": "text/x-python",
   "name": "python",
   "nbconvert_exporter": "python",
   "pygments_lexer": "ipython3",
   "version": "3.9.1"
  },
  "toc": {
   "base_numbering": 1,
   "nav_menu": {},
   "number_sections": true,
   "sideBar": true,
   "skip_h1_title": false,
   "title_cell": "Table of Contents",
   "title_sidebar": "Contents",
   "toc_cell": false,
   "toc_position": {},
   "toc_section_display": true,
   "toc_window_display": false
  },
  "varInspector": {
   "cols": {
    "lenName": 16,
    "lenType": 16,
    "lenVar": 40
   },
   "kernels_config": {
    "python": {
     "delete_cmd_postfix": "",
     "delete_cmd_prefix": "del ",
     "library": "var_list.py",
     "varRefreshCmd": "print(var_dic_list())"
    },
    "r": {
     "delete_cmd_postfix": ") ",
     "delete_cmd_prefix": "rm(",
     "library": "var_list.r",
     "varRefreshCmd": "cat(var_dic_list()) "
    }
   },
   "types_to_exclude": [
    "module",
    "function",
    "builtin_function_or_method",
    "instance",
    "_Feature"
   ],
   "window_display": false
  }
 },
 "nbformat": 4,
 "nbformat_minor": 4
}
